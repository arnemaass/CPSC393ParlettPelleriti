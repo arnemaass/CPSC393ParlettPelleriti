{
 "cells": [
  {
   "cell_type": "code",
   "execution_count": 16,
   "metadata": {},
   "outputs": [],
   "source": [
    "import warnings\n",
    "warnings.filterwarnings('ignore')\n",
    "\n",
    "import numpy as np\n",
    "import pandas as pd\n",
    "\n",
    "from keras.datasets import mnist\n",
    "import tensorflow.keras as kb\n",
    "from tensorflow.keras import backend\n",
    "import tensorflow as tf\n",
    "from sklearn.preprocessing import LabelBinarizer\n",
    "\n",
    "\n",
    "from plotnine import *\n",
    "\n",
    "from sklearn.metrics import mean_squared_error, mean_absolute_error, roc_auc_score\n",
    "\n",
    "from sklearn.linear_model import LinearRegression # Linear Regression Model\n",
    "from sklearn.preprocessing import StandardScaler #Z-score variables\n",
    "\n",
    "from sklearn.model_selection import train_test_split # simple TT split cv\n",
    "from sklearn.model_selection import KFold # k-fold cv\n",
    "from sklearn.model_selection import LeaveOneOut #LOO cv\n"
   ]
  },
  {
   "cell_type": "markdown",
   "metadata": {},
   "source": [
    "# Basic Tensorflow Operations"
   ]
  },
  {
   "cell_type": "code",
   "execution_count": 17,
   "metadata": {},
   "outputs": [
    {
     "data": {
      "text/plain": [
       "<tf.Tensor: shape=(2, 1), dtype=float32, numpy=\n",
       "array([[1.],\n",
       "       [1.]], dtype=float32)>"
      ]
     },
     "execution_count": 17,
     "metadata": {},
     "output_type": "execute_result"
    }
   ],
   "source": [
    "x = tf.ones(shape=(2, 1))\n",
    "# x = tf.zeros(shape=(2, 1))\n",
    "# x = tf.random.uniform(shape=(2, 1))\n",
    "x"
   ]
  },
  {
   "cell_type": "code",
   "execution_count": 18,
   "metadata": {},
   "outputs": [
    {
     "data": {
      "text/plain": [
       "<tf.Tensor: shape=(2, 1), dtype=float32, numpy=\n",
       "array([[1.],\n",
       "       [1.]], dtype=float32)>"
      ]
     },
     "execution_count": 18,
     "metadata": {},
     "output_type": "execute_result"
    }
   ],
   "source": [
    "tf.square(x)"
   ]
  },
  {
   "cell_type": "code",
   "execution_count": 19,
   "metadata": {},
   "outputs": [
    {
     "data": {
      "text/plain": [
       "<tf.Tensor: shape=(2, 1), dtype=float32, numpy=\n",
       "array([[1.],\n",
       "       [1.]], dtype=float32)>"
      ]
     },
     "execution_count": 19,
     "metadata": {},
     "output_type": "execute_result"
    }
   ],
   "source": [
    "tf.sqrt(x)"
   ]
  },
  {
   "cell_type": "code",
   "execution_count": 20,
   "metadata": {},
   "outputs": [
    {
     "data": {
      "text/plain": [
       "<tf.Tensor: shape=(2, 1), dtype=float32, numpy=\n",
       "array([[2.],\n",
       "       [2.]], dtype=float32)>"
      ]
     },
     "execution_count": 20,
     "metadata": {},
     "output_type": "execute_result"
    }
   ],
   "source": [
    "y = tf.ones(shape = (2,1))\n",
    "\n",
    "x + y"
   ]
  },
  {
   "cell_type": "code",
   "execution_count": 21,
   "metadata": {},
   "outputs": [
    {
     "data": {
      "text/plain": [
       "<tf.Tensor: shape=(2, 1), dtype=float32, numpy=\n",
       "array([[0.8430599],\n",
       "       [1.0719225]], dtype=float32)>"
      ]
     },
     "execution_count": 21,
     "metadata": {},
     "output_type": "execute_result"
    }
   ],
   "source": [
    "z = tf.random.uniform(shape = (2,2))\n",
    "tf.matmul(z,x) #2x2 * 2*1"
   ]
  },
  {
   "cell_type": "code",
   "execution_count": 15,
   "metadata": {},
   "outputs": [
    {
     "data": {
      "text/plain": [
       "array([[1., 1.],\n",
       "       [1., 0.]])"
      ]
     },
     "execution_count": 15,
     "metadata": {},
     "output_type": "execute_result"
    }
   ],
   "source": [
    "# numpy\n",
    "z_np = np.ones(shape = (2,2))\n",
    "z_np[1,1] = 0\n",
    "z_np"
   ]
  },
  {
   "cell_type": "code",
   "execution_count": 22,
   "metadata": {},
   "outputs": [
    {
     "ename": "TypeError",
     "evalue": "'tensorflow.python.framework.ops.EagerTensor' object does not support item assignment",
     "output_type": "error",
     "traceback": [
      "\u001b[0;31m---------------------------------------------------------------------------\u001b[0m",
      "\u001b[0;31mTypeError\u001b[0m                                 Traceback (most recent call last)",
      "\u001b[1;32m/Users/cparlett/Library/Mobile Documents/com~apple~CloudDocs/Desktop/Desktop/School/CPSC393ParlettPelleriti/Classwork/07_KerasandTensorflow.ipynb Cell 8\u001b[0m line \u001b[0;36m<cell line: 2>\u001b[0;34m()\u001b[0m\n\u001b[1;32m      <a href='vscode-notebook-cell:/Users/cparlett/Library/Mobile%20Documents/com~apple~CloudDocs/Desktop/Desktop/School/CPSC393ParlettPelleriti/Classwork/07_KerasandTensorflow.ipynb#X33sZmlsZQ%3D%3D?line=0'>1</a>\u001b[0m z\u001b[39m.\u001b[39mshape\n\u001b[0;32m----> <a href='vscode-notebook-cell:/Users/cparlett/Library/Mobile%20Documents/com~apple~CloudDocs/Desktop/Desktop/School/CPSC393ParlettPelleriti/Classwork/07_KerasandTensorflow.ipynb#X33sZmlsZQ%3D%3D?line=1'>2</a>\u001b[0m z[\u001b[39m1\u001b[39;49m,\u001b[39m1\u001b[39;49m] \u001b[39m=\u001b[39m \u001b[39m0\u001b[39m\n",
      "\u001b[0;31mTypeError\u001b[0m: 'tensorflow.python.framework.ops.EagerTensor' object does not support item assignment"
     ]
    }
   ],
   "source": [
    "z.shape\n",
    "z[1,1] = 0"
   ]
  },
  {
   "cell_type": "code",
   "execution_count": 26,
   "metadata": {},
   "outputs": [
    {
     "data": {
      "text/plain": [
       "<tf.Variable 'Variable:0' shape=(2, 2) dtype=float32, numpy=\n",
       "array([[1., 1.],\n",
       "       [1., 0.]], dtype=float32)>"
      ]
     },
     "execution_count": 26,
     "metadata": {},
     "output_type": "execute_result"
    }
   ],
   "source": [
    "z_var = tf.Variable(initial_value= tf.ones(shape = (2,2)))\n",
    "z_var[1,1].assign(0)\n",
    "z_var"
   ]
  },
  {
   "cell_type": "markdown",
   "metadata": {},
   "source": [
    "# Gradient Tape (the reason we're all here)\n",
    "\n",
    "So far, Tensorflow is looking a lot like a fancy numpy. But it can do more than that. Most usefully, it can calculate the gradient of an expression for us with respect to any of its inputs. Even if its a VERY complex expression.\n",
    "\n"
   ]
  },
  {
   "cell_type": "code",
   "execution_count": 31,
   "metadata": {},
   "outputs": [
    {
     "data": {
      "text/plain": [
       "<tf.Tensor: shape=(), dtype=float32, numpy=6.0>"
      ]
     },
     "execution_count": 31,
     "metadata": {},
     "output_type": "execute_result"
    }
   ],
   "source": [
    "input_var = tf.Variable(initial_value=3.)\n",
    "\n",
    "with tf.GradientTape() as tape:\n",
    "    result = tf.square(input_var) # f(x) = x^2\n",
    "\n",
    "gradient = tape.gradient(result, input_var) # df/dx at x = input_var\n",
    "\n",
    "gradient"
   ]
  },
  {
   "cell_type": "markdown",
   "metadata": {},
   "source": [
    "# Linear Classifier with Tensorflow\n",
    "\n",
    "The example form your book (Chapter 3.5) builds a Linear Classifier using JUST Tensorflow. Let's look at the code to see how it works (luckily we won't often do this):"
   ]
  },
  {
   "cell_type": "code",
   "execution_count": 34,
   "metadata": {},
   "outputs": [
    {
     "data": {
      "image/png": "[encoded data removed]",
      "text/plain": [
       "<Figure size 432x288 with 1 Axes>"
      ]
     },
     "metadata": {
      "needs_background": "light"
     },
     "output_type": "display_data"
    }
   ],
   "source": [
    "# generate data\n",
    "num_samples_per_class = 1000\n",
    "negative_samples = np.random.multivariate_normal(\n",
    "    mean=[0, 3],\n",
    "    cov=[[1, 0.5],[0.5, 1]],\n",
    "    size=num_samples_per_class)\n",
    "positive_samples = np.random.multivariate_normal(\n",
    "    mean=[3, 0],\n",
    "    cov=[[1, 0.5],[0.5, 1]],\n",
    "    size=num_samples_per_class)\n",
    "\n",
    "# stack positives and negatives\n",
    "inputs = np.vstack((negative_samples, positive_samples)).astype(np.float32)\n",
    "\n",
    "# create y (outputs)\n",
    "targets = np.vstack((np.zeros((num_samples_per_class, 1), dtype=\"float32\"),\n",
    "                     np.ones((num_samples_per_class, 1), dtype=\"float32\")))\n",
    "\n",
    "# plot data\n",
    "import matplotlib.pyplot as plt\n",
    "plt.scatter(inputs[:, 0], inputs[:, 1], c=targets[:, 0])\n",
    "plt.show()"
   ]
  },
  {
   "cell_type": "code",
   "execution_count": 38,
   "metadata": {},
   "outputs": [
    {
     "name": "stdout",
     "output_type": "stream",
     "text": [
      "Loss at step 0: 4.9020\n",
      "Loss at step 1: 0.9043\n",
      "Loss at step 2: 0.2738\n",
      "Loss at step 3: 0.1625\n",
      "Loss at step 4: 0.1358\n",
      "Loss at step 5: 0.1234\n",
      "Loss at step 6: 0.1141\n",
      "Loss at step 7: 0.1060\n",
      "Loss at step 8: 0.0986\n",
      "Loss at step 9: 0.0919\n",
      "Loss at step 10: 0.0858\n",
      "Loss at step 11: 0.0802\n",
      "Loss at step 12: 0.0752\n",
      "Loss at step 13: 0.0706\n",
      "Loss at step 14: 0.0664\n",
      "Loss at step 15: 0.0626\n",
      "Loss at step 16: 0.0592\n",
      "Loss at step 17: 0.0560\n",
      "Loss at step 18: 0.0532\n",
      "Loss at step 19: 0.0505\n",
      "Loss at step 20: 0.0482\n",
      "Loss at step 21: 0.0460\n",
      "Loss at step 22: 0.0440\n",
      "Loss at step 23: 0.0423\n",
      "Loss at step 24: 0.0406\n",
      "Loss at step 25: 0.0392\n",
      "Loss at step 26: 0.0378\n",
      "Loss at step 27: 0.0366\n",
      "Loss at step 28: 0.0355\n",
      "Loss at step 29: 0.0344\n",
      "Loss at step 30: 0.0335\n",
      "Loss at step 31: 0.0327\n",
      "Loss at step 32: 0.0319\n",
      "Loss at step 33: 0.0312\n",
      "Loss at step 34: 0.0306\n",
      "Loss at step 35: 0.0300\n",
      "Loss at step 36: 0.0295\n",
      "Loss at step 37: 0.0290\n",
      "Loss at step 38: 0.0286\n",
      "Loss at step 39: 0.0282\n"
     ]
    },
    {
     "data": {
      "text/plain": [
       "<matplotlib.collections.PathCollection at 0x7fa7dae798e0>"
      ]
     },
     "execution_count": 38,
     "metadata": {},
     "output_type": "execute_result"
    },
    {
     "data": {
      "image/png": "[encoded data removed]",
      "text/plain": [
       "<Figure size 432x288 with 1 Axes>"
      ]
     },
     "metadata": {
      "needs_background": "light"
     },
     "output_type": "display_data"
    }
   ],
   "source": [
    "input_dim = 2 # number of inputs\n",
    "output_dim = 1 # number of outputs\n",
    "\n",
    "# initialize weights and bias\n",
    "W = tf.Variable(initial_value=tf.random.uniform(shape=(input_dim, output_dim)))\n",
    "b = tf.Variable(initial_value=tf.zeros(shape=(output_dim,)))\n",
    "\n",
    "# forward pass (make predictions)\n",
    "def model(inputs):\n",
    "    return tf.matmul(inputs, W) + b\n",
    "\n",
    "# loss\n",
    "def square_loss(targets, predictions):\n",
    "    per_sample_losses = tf.square(targets - predictions)\n",
    "    return tf.reduce_mean(per_sample_losses)\n",
    "\n",
    "# forward and backward passes\n",
    "learning_rate = 0.1\n",
    "\n",
    "def training_step(inputs, targets):\n",
    "    with tf.GradientTape() as tape:\n",
    "        predictions = model(inputs)\n",
    "        loss = square_loss(targets, predictions)\n",
    "    grad_loss_wrt_W, grad_loss_wrt_b = tape.gradient(loss, [W, b])\n",
    "    W.assign_sub(grad_loss_wrt_W * learning_rate)\n",
    "    b.assign_sub(grad_loss_wrt_b * learning_rate)\n",
    "    return loss\n",
    "\n",
    "# train for 40 iterations\n",
    "for step in range(40):\n",
    "    loss = training_step(inputs, targets)\n",
    "    print(f\"Loss at step {step}: {loss:.4f}\")\n",
    "\n",
    "# make predictions\n",
    "predictions = model(inputs)\n",
    "\n",
    "# plot final model\n",
    "x = np.linspace(-1, 4, 100)\n",
    "y = - W[0] /  W[1] * x + (0.5 - b) / W[1]\n",
    "plt.plot(x, y, \"-r\")\n",
    "plt.scatter(inputs[:, 0], inputs[:, 1], c=predictions[:, 0] > 0.5)\n",
    "\n"
   ]
  },
  {
   "attachments": {},
   "cell_type": "markdown",
   "metadata": {},
   "source": [
    "# Basic Keras Compnents\n",
    "\n",
    "## Model Objects\n",
    "- `Model()`: an object that groups layers together to be trained and to make predictions\n",
    "\n",
    "\n",
    "With `Model()` objects we can either use the **Functional API** to interface with them, or we can subclass the `Model()` object. \n",
    "\n",
    "### Functional API\n",
    "Here, we treat layers as functions that have input tensors and output tensors. Each layer takes in the output from the previous layer. "
   ]
  },
  {
   "cell_type": "code",
   "execution_count": 15,
   "metadata": {},
   "outputs": [
    {
     "name": "stdout",
     "output_type": "stream",
     "text": [
      "Model: \"model_2\"\n",
      "_________________________________________________________________\n",
      " Layer (type)                Output Shape              Param #   \n",
      "=================================================================\n",
      " input_3 (InputLayer)        [(None, 25)]              0         \n",
      "                                                                 \n",
      " dense_52 (Dense)            (None, 10)                260       \n",
      "                                                                 \n",
      " dense_53 (Dense)            (None, 5)                 55        \n",
      "                                                                 \n",
      " dense_54 (Dense)            (None, 2)                 12        \n",
      "                                                                 \n",
      " dense_55 (Dense)            (None, 1)                 3         \n",
      "                                                                 \n",
      "=================================================================\n",
      "Total params: 330\n",
      "Trainable params: 330\n",
      "Non-trainable params: 0\n",
      "_________________________________________________________________\n"
     ]
    }
   ],
   "source": [
    "# Functional API building\n",
    "\n",
    "inputs = kb.Input(shape = (25,))\n",
    "\n",
    "x = kb.layers.Dense(10)(inputs)\n",
    "\n",
    "x = kb.layers.Dense(5)(x)\n",
    "\n",
    "x = kb.layers.Dense(2)(x)\n",
    "\n",
    "outputs = kb.layers.Dense(1, activation = tf.nn.sigmoid)(x)\n",
    "\n",
    "model = kb.Model(inputs = inputs, outputs = outputs)\n",
    "\n",
    "model.summary()\n"
   ]
  },
  {
   "attachments": {},
   "cell_type": "markdown",
   "metadata": {},
   "source": [
    "Or we can create a new class that inherits from `Model()`. \n",
    "\n",
    "First we create a class that inherets from `kb.Model`, and then we create an `__init__` method that first calls the superclass' `__init__()` and then defines every layer that we need. We want this to happen in the constructor, otherwise the layers might be created more than once (which we do not want).\n",
    "\n",
    "Then we create a `call()` method which basically defines what a forward pass of your model looks like. It takes in the default `self` arugment as well as some input to the model. This looks similar to how we defined things using the Functional API. Then we return the output of the model. \n",
    "\n",
    "Now we can use this subclass to build a model!\n",
    "- We create inputs\n",
    "- We put those inputs into our model object\n",
    "- We put both into a `Model()` object\n"
   ]
  },
  {
   "cell_type": "code",
   "execution_count": 19,
   "metadata": {},
   "outputs": [
    {
     "name": "stdout",
     "output_type": "stream",
     "text": [
      "Model: \"model_4\"\n",
      "_________________________________________________________________\n",
      " Layer (type)                Output Shape              Param #   \n",
      "=================================================================\n",
      " input_7 (InputLayer)        [(None, 25)]              0         \n",
      "                                                                 \n",
      " my_model_9 (MyModel)        (None, 1)                 330       \n",
      "                                                                 \n",
      "=================================================================\n",
      "Total params: 330\n",
      "Trainable params: 330\n",
      "Non-trainable params: 0\n",
      "_________________________________________________________________\n"
     ]
    }
   ],
   "source": [
    "# we won't do this often but its nice to know\n",
    "\n",
    "class MyModel(kb.Model):\n",
    "\n",
    "    def __init__(self):\n",
    "        # call init from inhereted class\n",
    "        super().__init__()\n",
    "\n",
    "        # create all layers here so they're only created once\n",
    "        self.layer1 = kb.layers.Dense(10, input_shape = [25])\n",
    "        self.layer2 = kb.layers.Dense(5)\n",
    "        self.layer3 = kb.layers.Dense(2)\n",
    "        self.layer4 = kb.layers.Dense(1, activation = \"sigmoid\")\n",
    "    \n",
    "    def call(self, inputs):\n",
    "        # define what a forward pass looks like\n",
    "        x = self.layer1(inputs)\n",
    "        x = self.layer2(x)\n",
    "        x = self.layer3(x)\n",
    "        return(self.layer4(x))\n",
    "\n",
    "# define input shape\n",
    "inputs = kb.Input(shape = (25,))\n",
    "\n",
    "# create a model using your custom class\n",
    "x = MyModel()(inputs)\n",
    "\n",
    "# shove the inputs and outputs into a model object\n",
    "my_model = kb.Model(inputs = inputs, outputs = x)\n",
    "\n",
    "# show me the model\n",
    "my_model.summary()"
   ]
  },
  {
   "attachments": {},
   "cell_type": "markdown",
   "metadata": {},
   "source": [
    "## Sequential Object\n",
    "\n",
    "- `Sequential()`: an object that groups layers together in a linear stack (less flexible than `Model` but typically all we need)\n",
    "\n",
    "This is what we've done so far (and what we did in CPSC 392). We create a `Sequential()` object and give it a list of layers to add (in order).\n"
   ]
  },
  {
   "cell_type": "code",
   "execution_count": 5,
   "metadata": {},
   "outputs": [
    {
     "name": "stdout",
     "output_type": "stream",
     "text": [
      "Model: \"sequential_3\"\n",
      "_________________________________________________________________\n",
      " Layer (type)                Output Shape              Param #   \n",
      "=================================================================\n",
      " dense_12 (Dense)            (None, 10)                260       \n",
      "                                                                 \n",
      " dense_13 (Dense)            (None, 5)                 55        \n",
      "                                                                 \n",
      " dense_14 (Dense)            (None, 2)                 12        \n",
      "                                                                 \n",
      " dense_15 (Dense)            (None, 1)                 3         \n",
      "                                                                 \n",
      "=================================================================\n",
      "Total params: 330\n",
      "Trainable params: 330\n",
      "Non-trainable params: 0\n",
      "_________________________________________________________________\n"
     ]
    }
   ],
   "source": [
    "# give Sequential a list of layers\n",
    "my_model = kb.Sequential([\n",
    "    kb.layers.Dense(10, input_shape = [25]),\n",
    "    kb.layers.Dense(5),\n",
    "    kb.layers.Dense(2),\n",
    "    kb.layers.Dense(1, activation = \"sigmoid\")\n",
    "])\n",
    "\n",
    "my_model.summary()"
   ]
  },
  {
   "attachments": {},
   "cell_type": "markdown",
   "metadata": {},
   "source": [
    "If we want to add layers dynamically, we can use `.add()` and `.pop()` to add and pop layers on/off our model. This would be useful, for example, if we wanted to loop through a list of values and add layers with those values."
   ]
  },
  {
   "cell_type": "code",
   "execution_count": 6,
   "metadata": {},
   "outputs": [
    {
     "name": "stdout",
     "output_type": "stream",
     "text": [
      "Model: \"sequential_4\"\n",
      "_________________________________________________________________\n",
      " Layer (type)                Output Shape              Param #   \n",
      "=================================================================\n",
      " dense_16 (Dense)            (None, 10)                260       \n",
      "                                                                 \n",
      " dense_17 (Dense)            (None, 5)                 55        \n",
      "                                                                 \n",
      " dense_18 (Dense)            (None, 2)                 12        \n",
      "                                                                 \n",
      " dense_19 (Dense)            (None, 1)                 3         \n",
      "                                                                 \n",
      "=================================================================\n",
      "Total params: 330\n",
      "Trainable params: 330\n",
      "Non-trainable params: 0\n",
      "_________________________________________________________________\n"
     ]
    }
   ],
   "source": [
    "\n",
    "# use .add() to dynamically add layers\n",
    "my_model = kb.Sequential()\n",
    "my_model.add(kb.layers.Dense(10, input_shape = [25]))\n",
    "my_model.add(kb.layers.Dense(5))\n",
    "my_model.add(kb.layers.Dense(2))\n",
    "my_model.add(kb.layers.Dense(1, activation = \"sigmoid\"))\n",
    "\n",
    "my_model.summary()"
   ]
  },
  {
   "attachments": {},
   "cell_type": "markdown",
   "metadata": {},
   "source": [
    "\n",
    "## Layers\n",
    "Keras has many pre-defined layers that we can use (we'll learn about more of them as we learn about more model structures). For now the important layers are:\n",
    "\n",
    "- `Dense()`: A basic densely connected layer with `units` nodes. Densely connected means that every node in the previous layer is connected to every node in the current layer. \n",
    "- `Activation()`: applies an activation function (defined by the `activation` argument) to the values coming into it. This is largely the same as using the `activation` argument in a `Dense` Layer but is useful when you want to do an operation to the layer output BEFORE applying the activation (e.g. `BatchNormalization`)\n",
    "- `Input()`: A basic layer that defined the input of a model. It tells the model what the initial tensor of data that we expect to come in looks like. The `shape` argument tells the model what a *single sample* of data looks like (not a batch of samples)\n",
    "\n",
    "\n",
    "`Dense` Layers tend to be the basis of most of our Neural Networks, so let's get to know the documentation a little!\n",
    "\n",
    "- **Question** look at the [documentation](https://keras.io/api/layers/core_layers/dense/) for `Dense` layers. If I wanted to NOT have a bias for that layer, how might I tell python that?\n",
    "- **Question** look at the [documentation](https://keras.io/api/layers/core_layers/dense/) for `Dense` layers. If you do not supply a value for `activation` what activation does it use?\n",
    "\n",
    "\n",
    "There are many activation functions (or you can even define your own), let's look at the `activation` documentation and see what's available:\n",
    "\n",
    "- **Question** look at the [documentation](https://keras.io/api/layers/activations/) for `activations`. What basic activation functions are available?\n",
    "- Modify the code below to add a `ReLu` activation to the middle layer (either using the `activation` argument in `Dense()` or by adding an `Activation()` layer)\n",
    "\n"
   ]
  },
  {
   "cell_type": "code",
   "execution_count": 23,
   "metadata": {},
   "outputs": [
    {
     "name": "stdout",
     "output_type": "stream",
     "text": [
      "Model: \"sequential_7\"\n",
      "_________________________________________________________________\n",
      " Layer (type)                Output Shape              Param #   \n",
      "=================================================================\n",
      " dense_78 (Dense)            (None, 10)                260       \n",
      "                                                                 \n",
      " dense_79 (Dense)            (None, 5)                 55        \n",
      "                                                                 \n",
      " dense_80 (Dense)            (None, 2)                 12        \n",
      "                                                                 \n",
      " dense_81 (Dense)            (None, 1)                 3         \n",
      "                                                                 \n",
      "=================================================================\n",
      "Total params: 330\n",
      "Trainable params: 330\n",
      "Non-trainable params: 0\n",
      "_________________________________________________________________\n"
     ]
    }
   ],
   "source": [
    "### YOUR CODE HERE ###\n",
    "activated_model = kb.Sequential([\n",
    "    kb.Input(shape = [25]),\n",
    "    kb.layers.Dense(10), \n",
    "    kb.layers.Dense(5), # add relu here\n",
    "    kb.layers.Dense(2),\n",
    "    kb.layers.Dense(1, activation = \"sigmoid\")\n",
    "])\n",
    "\n",
    "activated_model.summary()"
   ]
  },
  {
   "attachments": {},
   "cell_type": "markdown",
   "metadata": {},
   "source": [
    "## Try It Out\n",
    "Build a model with the following structure in 3 different ways:\n",
    "\n",
    "- input size of 9 \n",
    "- 2 hidden layers (with 7 and 3 nodes respectively) and `relu` activations\n",
    "- output layer with 1 node and a sigmoid activation\n",
    "\n",
    "1. Build the model using a basic `Sequential()` object and using `.add()` to add each layer. Set the activation(s) using an `Activation()` layer. \n",
    "2. Build the model using the Functional API method with `Model()`. Set the activation(s) using the `activation` argument in each layer where necessary. \n",
    "3. Build the model by subclassing `Model()`. Build all your layers in the `__init__()` method, and define a forward pass using your `call()` method. Then use the class to build your model. Set the activation(s) using the `activation` argument in each layer where necessary. "
   ]
  },
  {
   "cell_type": "code",
   "execution_count": null,
   "metadata": {},
   "outputs": [],
   "source": [
    "# 1. `Sequential()`\n",
    "\n",
    "my_model1 = kb.Sequential()\n",
    "\n",
    "\n"
   ]
  },
  {
   "cell_type": "code",
   "execution_count": null,
   "metadata": {},
   "outputs": [],
   "source": [
    "# 2. Functional API\n",
    "\n",
    "inputs = kb.Input(???)\n",
    "\n",
    "# stuff\n",
    "\n",
    "outputs = ???\n",
    "\n",
    "my_model2 = kb.Model(inputs = inputs, outputs = outputs)\n"
   ]
  },
  {
   "cell_type": "code",
   "execution_count": null,
   "metadata": {},
   "outputs": [],
   "source": [
    "# 3. Subclass\n",
    "\n",
    "class MyModel(kb.Model):\n",
    "    def __init__(self):\n",
    "        super().__init__()\n",
    "\n",
    "        # layers\n",
    "        pass\n",
    "\n",
    "    def call(self, inputs):\n",
    "        pass"
   ]
  },
  {
   "attachments": {},
   "cell_type": "markdown",
   "metadata": {},
   "source": [
    "## Functions\n",
    "\n",
    "We've already used all these functions, but as a quick refresher:\n",
    "\n",
    "- `.summary()`: call it on a model to see the structure of the model as well as information about they layers\n",
    "- `.compile()`: tells python *how* to train your model, e.g. which optimizer to use, which metrics to collect, what your test/validation set is. \n",
    "- `.fit()`: train your model given the data (input and output), number of `epochs`, etc (just like sklearn but with more options)\n",
    "- `.predict()`: use your model to make predictions given some input values (just like sklearn)\n",
    "\n",
    "\n",
    "\n",
    "If you have time, download [this data set](https://www.kaggle.com/datasets/chaunguynnghunh/sepsis?select=Paitients_Files_Train.csv) and train one or all of the models you built on it (Don't include `ID` as a predictor). Don't forget to z-score and to use [`LabelBinarizer()`](https://scikit-learn.org/stable/modules/generated/sklearn.preprocessing.LabelBinarizer.html) to change the outputs to 0's and 1's. Use whatever optimizer you want. "
   ]
  }
 ],
 "metadata": {
  "kernelspec": {
   "display_name": "Python 3",
   "language": "python",
   "name": "python3"
  },
  "language_info": {
   "codemirror_mode": {
    "name": "ipython",
    "version": 3
   },
   "file_extension": ".py",
   "mimetype": "text/x-python",
   "name": "python",
   "nbconvert_exporter": "python",
   "pygments_lexer": "ipython3",
   "version": "3.8.1"
  },
  "orig_nbformat": 4,
  "vscode": {
   "interpreter": {
    "hash": "aee8b7b246df8f9039afb4144a1f6fd8d2ca17a180786b69acc140d282b71a49"
   }
  }
 },
 "nbformat": 4,
 "nbformat_minor": 2
}
