{
 "cells": [
  {
   "cell_type": "code",
   "execution_count": 1,
   "metadata": {},
   "outputs": [
    {
     "name": "stderr",
     "output_type": "stream",
     "text": [
      "2023-10-04 22:51:45.581551: I tensorflow/core/platform/cpu_feature_guard.cc:182] This TensorFlow binary is optimized to use available CPU instructions in performance-critical operations.\n",
      "To enable the following instructions: AVX2 FMA, in other operations, rebuild TensorFlow with the appropriate compiler flags.\n"
     ]
    }
   ],
   "source": [
    "import warnings\n",
    "warnings.filterwarnings('ignore')\n",
    "\n",
    "import numpy as np\n",
    "import pandas as pd\n",
    "\n",
    "from keras.datasets import mnist, fashion_mnist\n",
    "import tensorflow.keras as kb\n",
    "from tensorflow.keras import backend\n",
    "import tensorflow as tf"
   ]
  },
  {
   "attachments": {},
   "cell_type": "markdown",
   "metadata": {},
   "source": [
    "# Advanced CNN Techniques\n",
    "- Data Augmentation\n",
    "- Residual Connections\n",
    "- Depthwise Separable Connections\n",
    "- Visualizing Layer Activations\n",
    "- Visualizing Filters\n",
    "- Grad CAM\n"
   ]
  },
  {
   "attachments": {},
   "cell_type": "markdown",
   "metadata": {},
   "source": [
    "## Data Augmentation\n",
    "\n",
    "Data Augmentation is a method specific to CNNs that allows us to regularize our Network by showing the network the same image over and over with *slight* changes to things like:\n",
    "\n",
    "- rotation\n",
    "- crop\n",
    "- zoom\n",
    "- translation\n",
    "\n",
    "This is also helpful because we want our CNN to be able to recognize images even when they're shifted a little bit. \n",
    "\n",
    "Keras has a bunch of [`Random_*` layers](https://keras.io/api/layers/preprocessing_layers/image_augmentation/) which perform data augmentation for us. We can add a stack of them to a CNN before the first layer in order to perform data augmentation. "
   ]
  },
  {
   "cell_type": "code",
   "execution_count": 2,
   "metadata": {},
   "outputs": [
    {
     "name": "stdout",
     "output_type": "stream",
     "text": [
      "x_train shape: (60000, 28, 28, 1)\n",
      "60000 train samples\n",
      "10000 test samples\n"
     ]
    }
   ],
   "source": [
    "# Load the data and split it between train and test sets\n",
    "(x_train, y_train), (x_test, y_test) = fashion_mnist.load_data()\n",
    "\n",
    "# Scale images to the [0, 1] range\n",
    "x_train = x_train.astype(\"float32\") / 255\n",
    "x_test = x_test.astype(\"float32\") / 255\n",
    "\n",
    "# Make sure images have shape (28, 28, 1)\n",
    "x_train = np.expand_dims(x_train, -1)\n",
    "x_test = np.expand_dims(x_test, -1)\n",
    "\n",
    "print(\"x_train shape:\", x_train.shape)\n",
    "print(x_train.shape[0], \"train samples\")\n",
    "print(x_test.shape[0], \"test samples\")\n",
    "\n",
    "\n",
    "# convert class vectors to binary class matrices\n",
    "y_train = kb.utils.to_categorical(y_train, 10)\n",
    "y_test = kb.utils.to_categorical(y_test, 10)"
   ]
  },
  {
   "cell_type": "code",
   "execution_count": 3,
   "metadata": {},
   "outputs": [
    {
     "name": "stdout",
     "output_type": "stream",
     "text": [
      "Model: \"sequential\"\n",
      "_________________________________________________________________\n",
      " Layer (type)                Output Shape              Param #   \n",
      "=================================================================\n",
      " random_flip (RandomFlip)    (None, 28, 28, 1)         0         \n",
      "                                                                 \n",
      " random_zoom (RandomZoom)    (None, 28, 28, 1)         0         \n",
      "                                                                 \n",
      " random_rotation (RandomRot  (None, 28, 28, 1)         0         \n",
      " ation)                                                          \n",
      "                                                                 \n",
      " conv2d (Conv2D)             (None, 28, 28, 32)        320       \n",
      "                                                                 \n",
      " conv2d_1 (Conv2D)           (None, 28, 28, 64)        18496     \n",
      "                                                                 \n",
      " max_pooling2d (MaxPooling2  (None, 14, 14, 64)        0         \n",
      " D)                                                              \n",
      "                                                                 \n",
      " flatten (Flatten)           (None, 12544)             0         \n",
      "                                                                 \n",
      " dense (Dense)               (None, 100)               1254500   \n",
      "                                                                 \n",
      " dense_1 (Dense)             (None, 10)                1010      \n",
      "                                                                 \n",
      "=================================================================\n",
      "Total params: 1274326 (4.86 MB)\n",
      "Trainable params: 1274326 (4.86 MB)\n",
      "Non-trainable params: 0 (0.00 Byte)\n",
      "_________________________________________________________________\n"
     ]
    }
   ],
   "source": [
    "model = kb.Sequential([\n",
    "    kb.layers.InputLayer(input_shape =(28,28,1)),\n",
    "    kb.layers.RandomFlip(),\n",
    "    kb.layers.RandomZoom(0.2),\n",
    "    kb.layers.RandomRotation(0.1),\n",
    "    kb.layers.Conv2D(32, (3, 3), activation='relu', padding = \"same\"),\n",
    "    kb.layers.Conv2D(64, (3, 3), activation='relu', padding = \"same\"),\n",
    "    kb.layers.MaxPooling2D((2, 2)),\n",
    "    kb.layers.Flatten(),\n",
    "    kb.layers.Dense(100, activation='relu'),\n",
    "    kb.layers.Dense(10, activation='softmax'),\n",
    "])\n",
    "\n",
    "model.summary()"
   ]
  },
  {
   "cell_type": "code",
   "execution_count": 4,
   "metadata": {},
   "outputs": [
    {
     "name": "stdout",
     "output_type": "stream",
     "text": [
      "Epoch 1/5\n",
      "1875/1875 [==============================] - 127s 67ms/step - loss: 0.7319 - accuracy: 0.7250 - val_loss: 0.5496 - val_accuracy: 0.7964\n",
      "Epoch 2/5\n",
      "1875/1875 [==============================] - 109s 58ms/step - loss: 0.5397 - accuracy: 0.7992 - val_loss: 0.4894 - val_accuracy: 0.8257\n",
      "Epoch 3/5\n",
      "1875/1875 [==============================] - 101s 54ms/step - loss: 0.4826 - accuracy: 0.8209 - val_loss: 0.4590 - val_accuracy: 0.8356\n",
      "Epoch 4/5\n",
      "1875/1875 [==============================] - 96s 51ms/step - loss: 0.4474 - accuracy: 0.8352 - val_loss: 0.4609 - val_accuracy: 0.8317\n",
      "Epoch 5/5\n",
      "1875/1875 [==============================] - 96s 51ms/step - loss: 0.4241 - accuracy: 0.8429 - val_loss: 0.4492 - val_accuracy: 0.8362\n"
     ]
    },
    {
     "data": {
      "text/plain": [
       "<keras.src.callbacks.History at 0x7fb9d1cd2580>"
      ]
     },
     "execution_count": 4,
     "metadata": {},
     "output_type": "execute_result"
    }
   ],
   "source": [
    "model.compile(loss=\"categorical_crossentropy\", optimizer=\"adam\", metrics=[\"accuracy\"])\n",
    "\n",
    "model.fit(x_train, y_train, epochs=5, validation_data = (x_test, y_test))"
   ]
  },
  {
   "attachments": {},
   "cell_type": "markdown",
   "metadata": {},
   "source": [
    "## Residual Connections\n",
    "\n",
    "Residual Connections create two paths for data to flow through:\n",
    "\n",
    "1. the traditional path which pushes the input image through the convolutional + pooling layers\n",
    "2. a non-destructive path that passes the image through unchanged (though we may reduce the size to match the output of the other path)\n",
    "\n",
    "These two paths are then added together before passing the output through to the next block of conv + pool layers. \n",
    "\n",
    "Because we're no longer using a simple, sequential stack of layers, we have to use the Functional API to define this architechture rather than `Sequential()`. 😭"
   ]
  },
  {
   "cell_type": "code",
   "execution_count": 5,
   "metadata": {},
   "outputs": [
    {
     "name": "stdout",
     "output_type": "stream",
     "text": [
      "Model: \"model\"\n",
      "__________________________________________________________________________________________________\n",
      " Layer (type)                Output Shape                 Param #   Connected to                  \n",
      "==================================================================================================\n",
      " input_2 (InputLayer)        [(None, 28, 28, 1)]          0         []                            \n",
      "                                                                                                  \n",
      " conv2d_2 (Conv2D)           (None, 26, 26, 32)           320       ['input_2[0][0]']             \n",
      "                                                                                                  \n",
      " conv2d_3 (Conv2D)           (None, 26, 26, 64)           18496     ['conv2d_2[0][0]']            \n",
      "                                                                                                  \n",
      " conv2d_4 (Conv2D)           (None, 26, 26, 64)           2112      ['conv2d_2[0][0]']            \n",
      "                                                                                                  \n",
      " add (Add)                   (None, 26, 26, 64)           0         ['conv2d_3[0][0]',            \n",
      "                                                                     'conv2d_4[0][0]']            \n",
      "                                                                                                  \n",
      " max_pooling2d_1 (MaxPoolin  (None, 13, 13, 64)           0         ['add[0][0]']                 \n",
      " g2D)                                                                                             \n",
      "                                                                                                  \n",
      " flatten_1 (Flatten)         (None, 10816)                0         ['max_pooling2d_1[0][0]']     \n",
      "                                                                                                  \n",
      " dense_2 (Dense)             (None, 100)                  1081700   ['flatten_1[0][0]']           \n",
      "                                                                                                  \n",
      " dense_3 (Dense)             (None, 10)                   1010      ['dense_2[0][0]']             \n",
      "                                                                                                  \n",
      "==================================================================================================\n",
      "Total params: 1103638 (4.21 MB)\n",
      "Trainable params: 1103638 (4.21 MB)\n",
      "Non-trainable params: 0 (0.00 Byte)\n",
      "__________________________________________________________________________________________________\n"
     ]
    }
   ],
   "source": [
    "input = kb.Input(shape = (28,28,1))\n",
    "x = kb.layers.Conv2D(32, (3,3), activation = \"relu\")(input)\n",
    "residual = x\n",
    "x = kb.layers.Conv2D(64, (3,3), padding = \"same\", activation = \"relu\")(x)\n",
    "residual = kb.layers.Conv2D(64,(1,1))(residual)\n",
    "x = kb.layers.add([x,residual])\n",
    "x = kb.layers.MaxPooling2D((2, 2))(x)\n",
    "x = kb.layers.Flatten()(x)\n",
    "x = kb.layers.Dense(100, activation='relu')(x)\n",
    "output = kb.layers.Dense(10, activation='softmax')(x)\n",
    "\n",
    "model = kb.Model(inputs = input, outputs = output)\n",
    "\n",
    "model.summary()"
   ]
  },
  {
   "cell_type": "code",
   "execution_count": 6,
   "metadata": {},
   "outputs": [
    {
     "name": "stdout",
     "output_type": "stream",
     "text": [
      "Epoch 1/5\n",
      "1875/1875 [==============================] - 89s 47ms/step - loss: 0.3506 - accuracy: 0.8751 - val_loss: 0.2650 - val_accuracy: 0.9007\n",
      "Epoch 2/5\n",
      "1875/1875 [==============================] - 88s 47ms/step - loss: 0.2191 - accuracy: 0.9192 - val_loss: 0.2417 - val_accuracy: 0.9119\n",
      "Epoch 3/5\n",
      "1875/1875 [==============================] - 86s 46ms/step - loss: 0.1653 - accuracy: 0.9377 - val_loss: 0.2498 - val_accuracy: 0.9122\n",
      "Epoch 4/5\n",
      "1875/1875 [==============================] - 86s 46ms/step - loss: 0.1226 - accuracy: 0.9546 - val_loss: 0.2349 - val_accuracy: 0.9209\n",
      "Epoch 5/5\n",
      "1875/1875 [==============================] - 85s 45ms/step - loss: 0.0891 - accuracy: 0.9673 - val_loss: 0.2852 - val_accuracy: 0.9195\n"
     ]
    },
    {
     "data": {
      "text/plain": [
       "<keras.src.callbacks.History at 0x7fb9d3a4feb0>"
      ]
     },
     "execution_count": 6,
     "metadata": {},
     "output_type": "execute_result"
    }
   ],
   "source": [
    "model.compile(loss=\"categorical_crossentropy\", optimizer=\"adam\", metrics=[\"accuracy\"])\n",
    "\n",
    "model.fit(x_train, y_train, epochs=5, validation_data = (x_test, y_test))"
   ]
  },
  {
   "attachments": {},
   "cell_type": "markdown",
   "metadata": {},
   "source": [
    "## Depthwise Separable Convolutions\n",
    "\n",
    "[Depthwise Separable Convolutions](https://keras.io/api/layers/convolution_layers/separable_convolution2d/) are a way to reduce the computational cost of performing a convolution. DSC's apply a filter to each channel in an input image *separately* and then convolve those outputs together. This does assume that the different channels in the input are highly independent, but that's often true so it typically won't reduce the performance of your model unless that assumption is violated.\n",
    "\n",
    "Luckily, `SeparableConv2D()` is a drop-in replacement for `Conv2D()`."
   ]
  },
  {
   "cell_type": "code",
   "execution_count": 7,
   "metadata": {},
   "outputs": [
    {
     "name": "stdout",
     "output_type": "stream",
     "text": [
      "Model: \"sequential_1\"\n",
      "_________________________________________________________________\n",
      " Layer (type)                Output Shape              Param #   \n",
      "=================================================================\n",
      " separable_conv2d (Separabl  (None, 28, 28, 32)        73        \n",
      " eConv2D)                                                        \n",
      "                                                                 \n",
      " separable_conv2d_1 (Separa  (None, 28, 28, 64)        2400      \n",
      " bleConv2D)                                                      \n",
      "                                                                 \n",
      " max_pooling2d_2 (MaxPoolin  (None, 14, 14, 64)        0         \n",
      " g2D)                                                            \n",
      "                                                                 \n",
      " flatten_2 (Flatten)         (None, 12544)             0         \n",
      "                                                                 \n",
      " dense_4 (Dense)             (None, 100)               1254500   \n",
      "                                                                 \n",
      " dense_5 (Dense)             (None, 10)                1010      \n",
      "                                                                 \n",
      "=================================================================\n",
      "Total params: 1257983 (4.80 MB)\n",
      "Trainable params: 1257983 (4.80 MB)\n",
      "Non-trainable params: 0 (0.00 Byte)\n",
      "_________________________________________________________________\n"
     ]
    }
   ],
   "source": [
    "model = kb.Sequential([\n",
    "    kb.layers.InputLayer(input_shape =(28,28,1)),\n",
    "    kb.layers.SeparableConv2D(32, (3, 3), activation='relu', padding = \"same\"),\n",
    "    kb.layers.SeparableConv2D(64, (3, 3), activation='relu', padding = \"same\"),\n",
    "    kb.layers.MaxPooling2D((2, 2)),\n",
    "    kb.layers.Flatten(),\n",
    "    kb.layers.Dense(100, activation='relu'),\n",
    "    kb.layers.Dense(10, activation='softmax'),\n",
    "])\n",
    "\n",
    "model.summary()"
   ]
  },
  {
   "cell_type": "code",
   "execution_count": 8,
   "metadata": {},
   "outputs": [
    {
     "name": "stdout",
     "output_type": "stream",
     "text": [
      "1875/1875 [==============================] - 49s 26ms/step - loss: 0.4173 - accuracy: 0.8529 - val_loss: 0.3311 - val_accuracy: 0.8802\n"
     ]
    },
    {
     "data": {
      "text/plain": [
       "<keras.src.callbacks.History at 0x7fb9c2602460>"
      ]
     },
     "execution_count": 8,
     "metadata": {},
     "output_type": "execute_result"
    }
   ],
   "source": [
    "model.compile(loss=\"categorical_crossentropy\", optimizer=\"adam\", metrics=[\"accuracy\"])\n",
    "\n",
    "model.fit(x_train, y_train, epochs=1, validation_data = (x_test, y_test))"
   ]
  },
  {
   "attachments": {},
   "cell_type": "markdown",
   "metadata": {},
   "source": [
    "## Visualizations"
   ]
  },
  {
   "attachments": {},
   "cell_type": "markdown",
   "metadata": {},
   "source": [
    "### Visualizing Layer Activations"
   ]
  },
  {
   "cell_type": "code",
   "execution_count": 9,
   "metadata": {},
   "outputs": [
    {
     "name": "stdout",
     "output_type": "stream",
     "text": [
      "Model: \"sequential_2\"\n",
      "_________________________________________________________________\n",
      " Layer (type)                Output Shape              Param #   \n",
      "=================================================================\n",
      " c1 (Conv2D)                 (None, 28, 28, 32)        320       \n",
      "                                                                 \n",
      " c2 (Conv2D)                 (None, 28, 28, 64)        18496     \n",
      "                                                                 \n",
      " max_pooling2d_3 (MaxPoolin  (None, 14, 14, 64)        0         \n",
      " g2D)                                                            \n",
      "                                                                 \n",
      " flatten_3 (Flatten)         (None, 12544)             0         \n",
      "                                                                 \n",
      " dense_6 (Dense)             (None, 10)                125450    \n",
      "                                                                 \n",
      "=================================================================\n",
      "Total params: 144266 (563.54 KB)\n",
      "Trainable params: 144266 (563.54 KB)\n",
      "Non-trainable params: 0 (0.00 Byte)\n",
      "_________________________________________________________________\n"
     ]
    }
   ],
   "source": [
    "model = kb.Sequential([\n",
    "    kb.layers.InputLayer(input_shape =(28,28,1)),\n",
    "    kb.layers.Conv2D(32, (3, 3), activation='relu', padding = \"same\", name = \"c1\"),\n",
    "    kb.layers.Conv2D(64, (3, 3), activation='relu', padding = \"same\", name = \"c2\"),\n",
    "    kb.layers.MaxPooling2D((2, 2)),\n",
    "    kb.layers.Flatten(),\n",
    "    kb.layers.Dense(10, activation='softmax'),\n",
    "])\n",
    "\n",
    "model.summary()"
   ]
  },
  {
   "cell_type": "code",
   "execution_count": 10,
   "metadata": {},
   "outputs": [
    {
     "name": "stdout",
     "output_type": "stream",
     "text": [
      "Epoch 1/10\n",
      "1875/1875 [==============================] - 83s 44ms/step - loss: 0.3745 - accuracy: 0.8675 - val_loss: 0.2947 - val_accuracy: 0.8893\n",
      "Epoch 2/10\n",
      "1875/1875 [==============================] - 80s 43ms/step - loss: 0.2468 - accuracy: 0.9124 - val_loss: 0.2555 - val_accuracy: 0.9083\n",
      "Epoch 3/10\n",
      "1875/1875 [==============================] - 80s 42ms/step - loss: 0.2022 - accuracy: 0.9271 - val_loss: 0.2387 - val_accuracy: 0.9178\n",
      "Epoch 4/10\n",
      "1875/1875 [==============================] - 79s 42ms/step - loss: 0.1704 - accuracy: 0.9390 - val_loss: 0.2556 - val_accuracy: 0.9105\n",
      "Epoch 5/10\n",
      "1875/1875 [==============================] - 79s 42ms/step - loss: 0.1433 - accuracy: 0.9493 - val_loss: 0.2441 - val_accuracy: 0.9169\n",
      "Epoch 6/10\n",
      "1875/1875 [==============================] - 81s 43ms/step - loss: 0.1213 - accuracy: 0.9563 - val_loss: 0.2486 - val_accuracy: 0.9189\n",
      "Epoch 7/10\n",
      "1875/1875 [==============================] - 81s 43ms/step - loss: 0.1034 - accuracy: 0.9622 - val_loss: 0.2828 - val_accuracy: 0.9161\n",
      "Epoch 8/10\n",
      "1875/1875 [==============================] - 82s 44ms/step - loss: 0.0888 - accuracy: 0.9677 - val_loss: 0.2802 - val_accuracy: 0.9164\n",
      "Epoch 9/10\n",
      "1875/1875 [==============================] - 83s 45ms/step - loss: 0.0768 - accuracy: 0.9728 - val_loss: 0.3006 - val_accuracy: 0.9186\n",
      "Epoch 10/10\n",
      "1875/1875 [==============================] - 84s 45ms/step - loss: 0.0678 - accuracy: 0.9758 - val_loss: 0.3376 - val_accuracy: 0.9117\n"
     ]
    },
    {
     "data": {
      "text/plain": [
       "<keras.src.callbacks.History at 0x7fb9b1db7520>"
      ]
     },
     "execution_count": 10,
     "metadata": {},
     "output_type": "execute_result"
    }
   ],
   "source": [
    "model.compile(loss=\"categorical_crossentropy\", optimizer=\"adam\", metrics=[\"accuracy\"])\n",
    "\n",
    "model.fit(x_train, y_train, epochs=10, validation_data = (x_test, y_test))"
   ]
  },
  {
   "cell_type": "code",
   "execution_count": 11,
   "metadata": {},
   "outputs": [
    {
     "name": "stdout",
     "output_type": "stream",
     "text": [
      "Model: \"model_1\"\n",
      "_________________________________________________________________\n",
      " Layer (type)                Output Shape              Param #   \n",
      "=================================================================\n",
      " input_4 (InputLayer)        [(None, 28, 28, 1)]       0         \n",
      "                                                                 \n",
      " c1 (Conv2D)                 (None, 28, 28, 32)        320       \n",
      "                                                                 \n",
      " c2 (Conv2D)                 (None, 28, 28, 64)        18496     \n",
      "                                                                 \n",
      " max_pooling2d_3 (MaxPoolin  (None, 14, 14, 64)        0         \n",
      " g2D)                                                            \n",
      "                                                                 \n",
      "=================================================================\n",
      "Total params: 18816 (73.50 KB)\n",
      "Trainable params: 18816 (73.50 KB)\n",
      "Non-trainable params: 0 (0.00 Byte)\n",
      "_________________________________________________________________\n"
     ]
    }
   ],
   "source": [
    "layer_out = []\n",
    "layer_name = []\n",
    "\n",
    "for layer in model.layers:\n",
    "    if isinstance(layer, (kb.layers.Conv2D, kb.layers.MaxPooling2D)):\n",
    "        layer_out.append(layer.output)\n",
    "        layer_name.append(layer.name)\n",
    "\n",
    "layer_activations = kb.Model(inputs = model.input, outputs = layer_out)\n",
    "\n",
    "layer_activations.summary()"
   ]
  },
  {
   "cell_type": "code",
   "execution_count": 12,
   "metadata": {},
   "outputs": [
    {
     "name": "stdout",
     "output_type": "stream",
     "text": [
      "1/1 [==============================] - 0s 157ms/step\n"
     ]
    }
   ],
   "source": [
    "img = kb.utils.img_to_array(x_train[0])\n",
    "img = np.expand_dims(img, axis = 0)\n",
    "activations = layer_activations.predict(img)\n"
   ]
  },
  {
   "cell_type": "code",
   "execution_count": 13,
   "metadata": {},
   "outputs": [
    {
     "data": {
      "text/plain": [
       "<matplotlib.image.AxesImage at 0x7fb9a3f2dc70>"
      ]
     },
     "execution_count": 13,
     "metadata": {},
     "output_type": "execute_result"
    },
    {
     "data": {
      "image/png": "[encoded data removed]",
      "text/plain": [
       "<Figure size 432x288 with 1 Axes>"
      ]
     },
     "metadata": {
      "needs_background": "light"
     },
     "output_type": "display_data"
    }
   ],
   "source": [
    "import matplotlib.pyplot as plt\n",
    "\n",
    "# which layer and channel you want to look at\n",
    "layer = 0\n",
    "channel = 3\n",
    "\n",
    "# grab layer and channel and plot\n",
    "layer_act = activations[layer]\n",
    "plt.imshow(layer_act[0,:,:,channel], cmap = \"viridis\")"
   ]
  },
  {
   "attachments": {},
   "cell_type": "markdown",
   "metadata": {},
   "source": [
    "### Visualizing Filters\n",
    "\n",
    "We can also visualize the filters learned by your CNN by using *gradient **ascent*** to find an image that *maximally* activates the filter as it's slid across an input. \n",
    "\n",
    "We start with a blank image and then make iterative changes that maximize the filter output more and more at each step. "
   ]
  },
  {
   "cell_type": "code",
   "execution_count": 14,
   "metadata": {},
   "outputs": [],
   "source": [
    "layer = model.get_layer(\"c1\")\n",
    "\n",
    "feature_extractor = kb.Model(inputs = model.input, outputs = layer.output)"
   ]
  },
  {
   "cell_type": "code",
   "execution_count": 15,
   "metadata": {},
   "outputs": [],
   "source": [
    "def compute_loss(input_image, filter_index):\n",
    "    activation = feature_extractor(input_image)\n",
    "    # We avoid border artifacts by only involving non-border pixels in the loss.\n",
    "    filter_activation = activation[:, 2:-2, 2:-2, filter_index]\n",
    "    return tf.reduce_mean(filter_activation)\n",
    "\n",
    "@tf.function\n",
    "def gradient_ascent_step(img, filter_index, learning_rate):\n",
    "    with tf.GradientTape() as tape:\n",
    "        tape.watch(img)\n",
    "        loss = compute_loss(img, filter_index)\n",
    "    # Compute gradients.\n",
    "    grads = tape.gradient(loss, img)\n",
    "    # Normalize gradients.\n",
    "    grads = tf.math.l2_normalize(grads)\n",
    "    img += learning_rate * grads\n",
    "    return loss, img\n",
    "\n",
    "\n",
    "def initialize_image():\n",
    "    # We start from a gray image with some random noise\n",
    "    img = tf.random.uniform((1, 28, 28, 1))\n",
    "    # ResNet50V2 expects inputs in the range [-1, +1].\n",
    "    # Here we scale our random inputs to [-0.125, +0.125]\n",
    "    return (img - 0.5) * 0.25\n",
    "\n",
    "\n",
    "def visualize_filter(filter_index):\n",
    "    # We run gradient ascent for 20 steps\n",
    "    iterations = 30\n",
    "    learning_rate = 10.0\n",
    "    img = initialize_image()\n",
    "    for iteration in range(iterations):\n",
    "        loss, img = gradient_ascent_step(img, filter_index, learning_rate)\n",
    "\n",
    "    # Decode the resulting input image\n",
    "    img = deprocess_image(img[0].numpy())\n",
    "    return loss, img\n",
    "\n",
    "\n",
    "def deprocess_image(img):\n",
    "    # Normalize array: center on 0., ensure variance is 0.15\n",
    "    img -= img.mean()\n",
    "    img /= img.std() + 1e-5\n",
    "    img *= 0.15\n",
    "\n",
    "    # Center crop\n",
    "    img = img[2:-2, 2:-2, :]\n",
    "\n",
    "    # Clip to [0, 1]\n",
    "    img += 0.5\n",
    "    img = np.clip(img, 0, 1)\n",
    "\n",
    "    # Convert to RGB array\n",
    "    img *= 255\n",
    "    img = np.clip(img, 0, 255).astype(\"uint8\")\n",
    "    return img\n",
    "    image -= image.mean()\n",
    "    image /= image.std()\n",
    "    image *= 64\n",
    "    image += 128\n",
    "    image = np.clip(image, 0, 255).astype(\"uint8\")\n",
    "    image = image[25:-25, 25:-25, :]\n",
    "    return(image)"
   ]
  },
  {
   "cell_type": "code",
   "execution_count": 16,
   "metadata": {},
   "outputs": [
    {
     "data": {
      "image/png": "[encoded data removed]",
      "text/plain": [
       "<IPython.core.display.Image object>"
      ]
     },
     "metadata": {},
     "output_type": "display_data"
    }
   ],
   "source": [
    "from IPython.display import Image, display\n",
    "\n",
    "loss, img = visualize_filter(7)\n",
    "kb.preprocessing.image.save_img(\"0.png\", img)\n",
    "display(Image(\"0.png\"))"
   ]
  },
  {
   "attachments": {},
   "cell_type": "markdown",
   "metadata": {},
   "source": [
    "### Visualizing Class Activation Heatmaps\n"
   ]
  },
  {
   "cell_type": "code",
   "execution_count": 17,
   "metadata": {},
   "outputs": [],
   "source": [
    "import numpy as np\n",
    "import tensorflow as tf\n",
    "from tensorflow import keras\n",
    "\n",
    "# Display\n",
    "from IPython.display import Image, display\n",
    "import matplotlib.pyplot as plt\n",
    "import matplotlib.cm as cm\n"
   ]
  },
  {
   "cell_type": "code",
   "execution_count": 21,
   "metadata": {},
   "outputs": [
    {
     "data": {
      "text/plain": [
       "<matplotlib.image.AxesImage at 0x7fb996dc4a30>"
      ]
     },
     "execution_count": 21,
     "metadata": {},
     "output_type": "execute_result"
    },
    {
     "data": {
      "image/png": "[encoded data removed]",
      "text/plain": [
       "<Figure size 432x288 with 1 Axes>"
      ]
     },
     "metadata": {
      "needs_background": "light"
     },
     "output_type": "display_data"
    }
   ],
   "source": [
    "# model_builder = keras.applications.xception.Xception\n",
    "# img_size = (299, 299)\n",
    "# preprocess_input = keras.applications.xception.preprocess_input\n",
    "# decode_predictions = keras.applications.xception.decode_predictions\n",
    "\n",
    "img_size = (28, 28)\n",
    "last_conv_layer_name = \"max_pooling2d_3\"\n",
    "\n",
    "img = np.expand_dims(x_train[0], 0)\n",
    "img.shape\n",
    "\n",
    "plt.imshow(img.reshape((28,28)))\n"
   ]
  },
  {
   "cell_type": "code",
   "execution_count": 22,
   "metadata": {},
   "outputs": [],
   "source": [
    "\n",
    "def get_img_array(img, size):\n",
    "    # `array` is a float32 Numpy array of shape (28, 28, 1)\n",
    "    array = keras.preprocessing.image.img_to_array(img)\n",
    "    # We add a dimension to transform our array into a \"batch\"\n",
    "    array = np.expand_dims(array, axis=0)\n",
    "    return array\n",
    "\n",
    "\n",
    "def make_gradcam_heatmap(img_array, model, last_conv_layer_name, pred_index=None):\n",
    "    # First, we create a model that maps the input image to the activations\n",
    "    # of the last conv layer as well as the output predictions\n",
    "    grad_model = tf.keras.models.Model(\n",
    "        [model.inputs], [model.get_layer(last_conv_layer_name).output, model.output]\n",
    "    )\n",
    "\n",
    "    # Then, we compute the gradient of the top predicted class for our input image\n",
    "    # with respect to the activations of the last conv layer\n",
    "    with tf.GradientTape() as tape:\n",
    "        last_conv_layer_output, preds = grad_model(img_array)\n",
    "        if pred_index is None:\n",
    "            pred_index = tf.argmax(preds[0])\n",
    "        class_channel = preds[:, pred_index]\n",
    "\n",
    "    # This is the gradient of the output neuron (top predicted or chosen)\n",
    "    # with regard to the output feature map of the last conv layer\n",
    "    grads = tape.gradient(class_channel, last_conv_layer_output)\n",
    "\n",
    "    # This is a vector where each entry is the mean intensity of the gradient\n",
    "    # over a specific feature map channel\n",
    "    pooled_grads = tf.reduce_mean(grads, axis=(0, 1))\n",
    "\n",
    "    # We multiply each channel in the feature map array\n",
    "    # by \"how important this channel is\" with regard to the top predicted class\n",
    "    # then sum all the channels to obtain the heatmap class activation\n",
    "    last_conv_layer_output = last_conv_layer_output[0]\n",
    "    heatmap = last_conv_layer_output @ pooled_grads[..., tf.newaxis]\n",
    "    heatmap = tf.squeeze(heatmap)\n",
    "\n",
    "    # For visualization purpose, we will also normalize the heatmap between 0 & 1\n",
    "    heatmap = tf.maximum(heatmap, 0) / tf.math.reduce_max(heatmap)\n",
    "    return heatmap.numpy()\n"
   ]
  },
  {
   "cell_type": "code",
   "execution_count": 23,
   "metadata": {},
   "outputs": [
    {
     "name": "stdout",
     "output_type": "stream",
     "text": [
      "1/1 [==============================] - 0s 40ms/step\n"
     ]
    },
    {
     "data": {
      "image/png": "[encoded data removed]",
      "text/plain": [
       "<Figure size 288x288 with 1 Axes>"
      ]
     },
     "metadata": {
      "needs_background": "light"
     },
     "output_type": "display_data"
    }
   ],
   "source": [
    "# Remove last layer's softmax\n",
    "model.layers[-1].activation = None\n",
    "\n",
    "# Print what the top predicted class is\n",
    "preds = model.predict(img)\n",
    "\n",
    "# Generate class activation heatmap\n",
    "heatmap = make_gradcam_heatmap(img, model, last_conv_layer_name)\n",
    "\n",
    "# Display heatmap\n",
    "plt.matshow(heatmap)\n",
    "plt.show()"
   ]
  },
  {
   "cell_type": "code",
   "execution_count": 24,
   "metadata": {},
   "outputs": [
    {
     "data": {
      "image/png": "[encoded data removed]",
      "text/plain": [
       "<Figure size 288x288 with 1 Axes>"
      ]
     },
     "metadata": {
      "needs_background": "light"
     },
     "output_type": "display_data"
    }
   ],
   "source": [
    "\n",
    "def save_and_display_gradcam(img, heatmap, cam_path=\"cam.jpg\", alpha=0.4):\n",
    "    # Rescale heatmap to a range 0-255\n",
    "    heatmap = np.uint8(255 * heatmap)\n",
    "\n",
    "    # Use jet colormap to colorize heatmap\n",
    "    jet = cm.get_cmap(\"jet\")\n",
    "\n",
    "    # Use RGB values of the colormap\n",
    "    jet_colors = jet(np.arange(256))[:, :1]\n",
    "    jet_heatmap = jet_colors[heatmap]\n",
    "\n",
    "    # Create an image with RGB colorized heatmap\n",
    "    jet_heatmap = keras.preprocessing.image.array_to_img(jet_heatmap)\n",
    "    jet_heatmap = jet_heatmap.resize((img.shape[1], img.shape[0]))\n",
    "    jet_heatmap = keras.preprocessing.image.img_to_array(jet_heatmap)\n",
    "\n",
    "    # Superimpose the heatmap on original image\n",
    "    superimposed_img = jet_heatmap * alpha + img\n",
    "    plt.matshow(superimposed_img.reshape((28,28)))\n",
    "    plt.show()\n",
    "\n",
    "\n",
    "save_and_display_gradcam(img, heatmap, alpha = 0.1)"
   ]
  },
  {
   "cell_type": "markdown",
   "metadata": {},
   "source": [
    "## Occlusion\n",
    "\n",
    "I built this [Shiny App](https://cmparlett.shinyapps.io/convolutionalneuralnetocclusion/) for you to play around with. You can upload any image, and occlude (or cover up) part of it and see how that changes the classification of the image. My favorite example is that if you cover up a corgi butt, the model is less confident that the image is of a Corgi!\n",
    "\n",
    "<img src=\"https://drive.google.com/uc?export=view&id=1WPbTlOHlHY8T1XLQJUMHaQLsdwpm0dUE\" alt=\"Q\" width = “400”/>\n"
   ]
  }
 ],
 "metadata": {
  "kernelspec": {
   "display_name": "Python 3",
   "language": "python",
   "name": "python3"
  },
  "language_info": {
   "codemirror_mode": {
    "name": "ipython",
    "version": 3
   },
   "file_extension": ".py",
   "mimetype": "text/x-python",
   "name": "python",
   "nbconvert_exporter": "python",
   "pygments_lexer": "ipython3",
   "version": "3.8.1"
  },
  "orig_nbformat": 4
 },
 "nbformat": 4,
 "nbformat_minor": 2
}
