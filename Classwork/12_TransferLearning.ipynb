{
  "cells": [
    {
      "cell_type": "code",
      "execution_count": 1,
      "metadata": {
        "id": "tx1jV6QjO_oN"
      },
      "outputs": [],
      "source": [
        "import warnings\n",
        "warnings.filterwarnings('ignore')\n",
        "\n",
        "import numpy as np\n",
        "import pandas as pd\n",
        "\n",
        "\n",
        "from keras.datasets import mnist, fashion_mnist\n",
        "import tensorflow.keras as kb\n",
        "from tensorflow.keras import backend\n",
        "import tensorflow as tf\n",
        "from sklearn.preprocessing import LabelBinarizer\n",
        "\n",
        "import matplotlib.pyplot as plt\n"
      ]
    },
    {
      "cell_type": "markdown",
      "metadata": {
        "id": "l0tDoQQeO_oO"
      },
      "source": [
        "# Transfer Learning\n",
        "Transfer Learning is the typical way MOST people will use Deep Learning. \n",
        "\n",
        "Transfer Learning involves using models that someone else **already trained** and either:\n",
        "\n",
        "- building on top of the model\n",
        "OR\n",
        "- fine tuining some or all of the weights of the model\n",
        "\n",
        "Transfer learning is so important because state of the art deep learning models are very **expensive** to train (both computationally expensive, time expensive, and concomitantly money expensive because that compute time costs money! Some of these models cost $50,000 to train).\n",
        "\n",
        "You will likely not be training complex models yourself, you'll use open source models and tweak them to fit whatever needs you have. \n",
        "\n",
        "## Load Data From Kaggle\n"
      ]
    },
    {
      "cell_type": "code",
      "execution_count": 3,
      "metadata": {
        "colab": {
          "base_uri": "https://localhost:8080/"
        },
        "id": "7J4WJM1WO_oQ",
        "outputId": "8e6e0cb5-6b65-4a71-aa18-6dd11011a558"
      },
      "outputs": [
        {
          "name": "stdout",
          "output_type": "stream",
          "text": [
            "mkdir: cannot create directory ‘/root/.kaggle’: File exists\n"
          ]
        }
      ],
      "source": [
        "!mkdir ~/.kaggle\n",
        "!cp kaggle.json ~/.kaggle/\n",
        "!chmod 600 ~/.kaggle/kaggle.json"
      ]
    },
    {
      "cell_type": "code",
      "execution_count": 4,
      "metadata": {
        "colab": {
          "base_uri": "https://localhost:8080/"
        },
        "id": "XnvyHcqFO_oQ",
        "outputId": "e17cf755-e9bd-402a-8882-511f8f4d6d79"
      },
      "outputs": [
        {
          "name": "stdout",
          "output_type": "stream",
          "text": [
            "Downloading dogs-vs-cats.zip to /content\n",
            "100% 811M/812M [00:42<00:00, 21.4MB/s]\n",
            "100% 812M/812M [00:42<00:00, 20.0MB/s]\n"
          ]
        }
      ],
      "source": [
        "!kaggle competitions download -c dogs-vs-cats"
      ]
    },
    {
      "cell_type": "code",
      "execution_count": 5,
      "metadata": {
        "id": "GaiqZZPaO_oR"
      },
      "outputs": [],
      "source": [
        "!unzip -qq dogs-vs-cats.zip"
      ]
    },
    {
      "cell_type": "code",
      "execution_count": 6,
      "metadata": {
        "id": "kfI_1s1tO_oR"
      },
      "outputs": [],
      "source": [
        "!unzip -qq train.zip"
      ]
    },
    {
      "cell_type": "code",
      "execution_count": 7,
      "metadata": {
        "id": "c6tElgPRO_oR"
      },
      "outputs": [],
      "source": [
        "# load data for next part \n",
        "import os, shutil, pathlib\n",
        "\n",
        "original_dir = pathlib.Path(\"train\")\n",
        "new_base_dir = pathlib.Path(\"cats_vs_dogs_small\")\n",
        "\n",
        "def make_subset(subset_name, start_index, end_index):\n",
        "    for category in (\"cat\", \"dog\"):\n",
        "        dir = new_base_dir / subset_name / category\n",
        "        os.makedirs(dir)\n",
        "        fnames = [f\"{category}.{i}.jpg\" for i in range(start_index, end_index)]\n",
        "        for fname in fnames:\n",
        "            shutil.copyfile(src=original_dir / fname,\n",
        "                            dst=dir / fname)\n",
        "\n",
        "make_subset(\"train\", start_index=0, end_index=1000)\n",
        "make_subset(\"validation\", start_index=1000, end_index=1500)\n",
        "make_subset(\"test\", start_index=1500, end_index=2500)\n"
      ]
    },
    {
      "cell_type": "code",
      "execution_count": 8,
      "metadata": {
        "colab": {
          "base_uri": "https://localhost:8080/"
        },
        "id": "CfZgTUwXO_oS",
        "outputId": "c587053c-75dc-4934-bdf1-9b71551f1806"
      },
      "outputs": [
        {
          "name": "stdout",
          "output_type": "stream",
          "text": [
            "Found 2000 files belonging to 2 classes.\n",
            "Found 1000 files belonging to 2 classes.\n",
            "Found 2000 files belonging to 2 classes.\n"
          ]
        },
        {
          "name": "stderr",
          "output_type": "stream",
          "text": [
            "WARNING:tensorflow:From /usr/local/lib/python3.9/dist-packages/tensorflow/python/autograph/pyct/static_analysis/liveness.py:83: Analyzer.lamba_check (from tensorflow.python.autograph.pyct.static_analysis.liveness) is deprecated and will be removed after 2023-09-23.\n",
            "Instructions for updating:\n",
            "Lambda fuctions will be no more assumed to be used in the statement where they are used, or at least in the same block. https://github.com/tensorflow/tensorflow/issues/56089\n"
          ]
        },
        {
          "name": "stdout",
          "output_type": "stream",
          "text": [
            "(16,)\n",
            "(16,)\n",
            "(16,)\n",
            "(32, 16)\n",
            "(32, 16)\n",
            "(32, 16)\n",
            "(4, 4)\n",
            "(4, 4)\n",
            "(4, 4)\n",
            "data batch shape: (32, 180, 180, 3)\n",
            "labels batch shape: (32,)\n"
          ]
        }
      ],
      "source": [
        "from tensorflow.keras.utils import image_dataset_from_directory\n",
        "\n",
        "train_dataset = image_dataset_from_directory(\n",
        "    new_base_dir / \"train\",\n",
        "    image_size=(180, 180),\n",
        "    batch_size=32)\n",
        "validation_dataset = image_dataset_from_directory(\n",
        "    new_base_dir / \"validation\",\n",
        "    image_size=(180, 180),\n",
        "    batch_size=32)\n",
        "test_dataset = image_dataset_from_directory(\n",
        "    new_base_dir / \"test\",\n",
        "    image_size=(180, 180),\n",
        "    batch_size=32)\n",
        "\n",
        "random_numbers = np.random.normal(size=(1000, 16))\n",
        "dataset = tf.data.Dataset.from_tensor_slices(random_numbers)\n",
        "\n",
        "for i, element in enumerate(dataset):\n",
        "    print(element.shape)\n",
        "    if i >= 2:\n",
        "        break\n",
        "\n",
        "batched_dataset = dataset.batch(32)\n",
        "for i, element in enumerate(batched_dataset):\n",
        "    print(element.shape)\n",
        "    if i >= 2:\n",
        "        break\n",
        "\n",
        "reshaped_dataset = dataset.map(lambda x: tf.reshape(x, (4, 4)))\n",
        "for i, element in enumerate(reshaped_dataset):\n",
        "    print(element.shape)\n",
        "    if i >= 2:\n",
        "        break\n",
        "\n",
        "for data_batch, labels_batch in train_dataset:\n",
        "    print(\"data batch shape:\", data_batch.shape)\n",
        "    print(\"labels batch shape:\", labels_batch.shape)\n",
        "    break"
      ]
    },
    {
      "cell_type": "markdown",
      "metadata": {
        "id": "sfWwNZ96O_oT"
      },
      "source": [
        "\n",
        "## Building FF Layers on Top of a Pre-Trained CNN\n",
        "\n",
        "There are many pre-trained CNNs that are trained on very large repositories of images that include every-day objects and animals. Remember that the purpose of Convolutional and Pooling Layers is to *learn features* in the image (like a wheel, an eye, a petal...). If the pre-trained CNN learns enough useful features, we can use these features for a *bunch* of different applications. \n",
        "\n",
        "Some common pre-trained CNNs you might hear about are **VGG**, **ResNet** (the one that popularized residual connections), **Inception**, and **Xception**.\n",
        "\n",
        "We're going to use **VGG16** and build our own classifier on top of its convolutional layers.  \n",
        "\n",
        "We'll take the full model and remove the \"head\" (the FeedForward layers), and create our own FeedForward layers. \n",
        "\n"
      ]
    },
    {
      "cell_type": "code",
      "execution_count": 9,
      "metadata": {
        "colab": {
          "base_uri": "https://localhost:8080/"
        },
        "id": "2gNrbtOxO_oU",
        "outputId": "80bb7121-cd1b-4fe6-e989-4bd1af439247"
      },
      "outputs": [
        {
          "name": "stdout",
          "output_type": "stream",
          "text": [
            "Downloading data from https://storage.googleapis.com/tensorflow/keras-applications/vgg16/vgg16_weights_tf_dim_ordering_tf_kernels_notop.h5\n",
            "58889256/58889256 [==============================] - 4s 0us/step\n",
            "Model: \"vgg16\"\n",
            "_________________________________________________________________\n",
            " Layer (type)                Output Shape              Param #   \n",
            "=================================================================\n",
            " input_1 (InputLayer)        [(None, 180, 180, 3)]     0         \n",
            "                                                                 \n",
            " block1_conv1 (Conv2D)       (None, 180, 180, 64)      1792      \n",
            "                                                                 \n",
            " block1_conv2 (Conv2D)       (None, 180, 180, 64)      36928     \n",
            "                                                                 \n",
            " block1_pool (MaxPooling2D)  (None, 90, 90, 64)        0         \n",
            "                                                                 \n",
            " block2_conv1 (Conv2D)       (None, 90, 90, 128)       73856     \n",
            "                                                                 \n",
            " block2_conv2 (Conv2D)       (None, 90, 90, 128)       147584    \n",
            "                                                                 \n",
            " block2_pool (MaxPooling2D)  (None, 45, 45, 128)       0         \n",
            "                                                                 \n",
            " block3_conv1 (Conv2D)       (None, 45, 45, 256)       295168    \n",
            "                                                                 \n",
            " block3_conv2 (Conv2D)       (None, 45, 45, 256)       590080    \n",
            "                                                                 \n",
            " block3_conv3 (Conv2D)       (None, 45, 45, 256)       590080    \n",
            "                                                                 \n",
            " block3_pool (MaxPooling2D)  (None, 22, 22, 256)       0         \n",
            "                                                                 \n",
            " block4_conv1 (Conv2D)       (None, 22, 22, 512)       1180160   \n",
            "                                                                 \n",
            " block4_conv2 (Conv2D)       (None, 22, 22, 512)       2359808   \n",
            "                                                                 \n",
            " block4_conv3 (Conv2D)       (None, 22, 22, 512)       2359808   \n",
            "                                                                 \n",
            " block4_pool (MaxPooling2D)  (None, 11, 11, 512)       0         \n",
            "                                                                 \n",
            " block5_conv1 (Conv2D)       (None, 11, 11, 512)       2359808   \n",
            "                                                                 \n",
            " block5_conv2 (Conv2D)       (None, 11, 11, 512)       2359808   \n",
            "                                                                 \n",
            " block5_conv3 (Conv2D)       (None, 11, 11, 512)       2359808   \n",
            "                                                                 \n",
            " block5_pool (MaxPooling2D)  (None, 5, 5, 512)         0         \n",
            "                                                                 \n",
            "=================================================================\n",
            "Total params: 14,714,688\n",
            "Trainable params: 0\n",
            "Non-trainable params: 14,714,688\n",
            "_________________________________________________________________\n"
          ]
        }
      ],
      "source": [
        "vgg_conv = kb.applications.vgg16.VGG16(\n",
        "    weights = \"imagenet\",\n",
        "    include_top = False,\n",
        "    input_shape = (180,180,3)\n",
        ")\n",
        "\n",
        "vgg_conv.trainable = False\n",
        "vgg_conv.summary()"
      ]
    },
    {
      "cell_type": "markdown",
      "metadata": {
        "id": "s6Y6YqyiO_oU"
      },
      "source": [
        "LOOK HOW MANY parameters there are?! Do you want to train that model? I sure don't.\n",
        "\n",
        "Now that we have the base, we can add FF layers to the model. \n",
        "\n",
        "The function `kb.applications.vgg16.preprocess_input()` applies some pre-processing steps to the data before feeding it into the VGG model base."
      ]
    },
    {
      "cell_type": "code",
      "execution_count": 11,
      "metadata": {
        "id": "aJQ_PTuzO_oU"
      },
      "outputs": [],
      "source": [
        "inputs = kb.Input(shape=(180, 180, 3))\n",
        "x = kb.applications.vgg16.preprocess_input(inputs)\n",
        "x = vgg_conv(x)\n",
        "x = kb.layers.Flatten()(x)\n",
        "x = kb.layers.Dense(256)(x)\n",
        "x = kb.layers.Dropout(0.5)(x)\n",
        "outputs = kb.layers.Dense(1, activation=\"sigmoid\")(x)\n",
        "\n",
        "custom_ff = kb.Model(inputs, outputs)\n",
        "custom_ff.compile(loss=\"binary_crossentropy\",\n",
        "              optimizer=\"rmsprop\",\n",
        "              metrics=[\"accuracy\"])"
      ]
    },
    {
      "cell_type": "code",
      "execution_count": 12,
      "metadata": {
        "colab": {
          "base_uri": "https://localhost:8080/"
        },
        "id": "5THxb_2bO_oV",
        "outputId": "ca6f22e5-d994-488c-ce9a-c8ded4d796fe"
      },
      "outputs": [
        {
          "name": "stdout",
          "output_type": "stream",
          "text": [
            "Epoch 1/5\n",
            "63/63 [==============================] - 23s 189ms/step - loss: 22.9034 - accuracy: 0.9220 - val_loss: 3.5924 - val_accuracy: 0.9690\n",
            "Epoch 2/5\n",
            "63/63 [==============================] - 11s 178ms/step - loss: 4.0523 - accuracy: 0.9710 - val_loss: 4.2218 - val_accuracy: 0.9750\n",
            "Epoch 3/5\n",
            "63/63 [==============================] - 12s 181ms/step - loss: 1.5468 - accuracy: 0.9885 - val_loss: 3.3037 - val_accuracy: 0.9790\n",
            "Epoch 4/5\n",
            "63/63 [==============================] - 10s 150ms/step - loss: 1.7272 - accuracy: 0.9870 - val_loss: 4.4140 - val_accuracy: 0.9790\n",
            "Epoch 5/5\n",
            "63/63 [==============================] - 10s 150ms/step - loss: 1.3331 - accuracy: 0.9915 - val_loss: 4.9922 - val_accuracy: 0.9790\n"
          ]
        },
        {
          "data": {
            "text/plain": [
              "<keras.callbacks.History at 0x7fb8fbc82a30>"
            ]
          },
          "execution_count": 12,
          "metadata": {},
          "output_type": "execute_result"
        }
      ],
      "source": [
        "custom_ff.fit(train_dataset, epochs = 5, validation_data = validation_dataset)"
      ]
    },
    {
      "cell_type": "code",
      "execution_count": 17,
      "metadata": {
        "colab": {
          "base_uri": "https://localhost:8080/"
        },
        "id": "HJI8EZpJTKiH",
        "outputId": "29a2d031-3141-4174-e07f-9b750de648ec"
      },
      "outputs": [
        {
          "name": "stdout",
          "output_type": "stream",
          "text": [
            "Model: \"model\"\n",
            "_________________________________________________________________\n",
            " Layer (type)                Output Shape              Param #   \n",
            "=================================================================\n",
            " input_2 (InputLayer)        [(None, 180, 180, 3)]     0         \n",
            "                                                                 \n",
            " tf.__operators__.getitem (S  (None, 180, 180, 3)      0         \n",
            " licingOpLambda)                                                 \n",
            "                                                                 \n",
            " tf.nn.bias_add (TFOpLambda)  (None, 180, 180, 3)      0         \n",
            "                                                                 \n",
            " vgg16 (Functional)          (None, 5, 5, 512)         14714688  \n",
            "                                                                 \n",
            " flatten (Flatten)           (None, 12800)             0         \n",
            "                                                                 \n",
            " dense (Dense)               (None, 256)               3277056   \n",
            "                                                                 \n",
            " dropout (Dropout)           (None, 256)               0         \n",
            "                                                                 \n",
            " dense_1 (Dense)             (None, 1)                 257       \n",
            "                                                                 \n",
            "=================================================================\n",
            "Total params: 17,992,001\n",
            "Trainable params: 3,277,313\n",
            "Non-trainable params: 14,714,688\n",
            "_________________________________________________________________\n"
          ]
        }
      ],
      "source": [
        "custom_ff.summary()"
      ]
    },
    {
      "cell_type": "markdown",
      "metadata": {
        "id": "Wegbb-24O_oV"
      },
      "source": [
        "## Fine Tuning a Network\n",
        "\n",
        "While adding a new FF portion to a pre-trained CNN is simple and often works well, we *sometimes* want to tweak the weights from the pre-trained model. In order to do this we **Freeze** and **Unfreeze** various layers of the network. \n",
        "\n",
        "Layers that are **Frozen** will not be updated, their weights will stay as is. \n",
        "\n",
        "Layers that are **NOT Frozen** are trainable and their weights will be updated using backprop + gradient descent while the FF layers we added are trained. This allows the network to learn *slightly* different features that are better suited to our purposes. Typically we will unfreeze the last few convolutional/pooling layers from the pre-trained network. \n",
        "\n",
        "NOTE: it would be a bad idea to unfreeze middle layers without unfreezing the layers after it.\n",
        "\n",
        "\n",
        "Now let's use the same base model **VGG** but we'll unfreeze the last 4 layers, and train them along with the feed forward layers that we added.\n",
        "\n",
        "<img src=\"https://drive.google.com/uc?export=view&id=1BPCDzYXeN-ERqhEBKUml48fh8uEJljvW\"/>\n",
        "\n",
        "(image from Deep Learning with Python by Chollet)\n",
        "\n",
        "\n",
        "\n",
        "(activity modified from [this example](https://towardsdatascience.com/fine-tuning-pre-trained-model-vgg-16-1277268c537f))"
      ]
    },
    {
      "cell_type": "code",
      "execution_count": 13,
      "metadata": {
        "colab": {
          "base_uri": "https://localhost:8080/"
        },
        "id": "UT7jEkrCO_oV",
        "outputId": "9fd46e38-c3a8-4bf4-b1d2-793e9d5d6d43"
      },
      "outputs": [
        {
          "name": "stdout",
          "output_type": "stream",
          "text": [
            "0 input_3 False\n",
            "1 block1_conv1 False\n",
            "2 block1_conv2 False\n",
            "3 block1_pool False\n",
            "4 block2_conv1 False\n",
            "5 block2_conv2 False\n",
            "6 block2_pool False\n",
            "7 block3_conv1 False\n",
            "8 block3_conv2 False\n",
            "9 block3_conv3 False\n",
            "10 block3_pool False\n",
            "11 block4_conv1 False\n",
            "12 block4_conv2 False\n",
            "13 block4_conv3 False\n",
            "14 block4_pool False\n",
            "15 block5_conv1 True\n",
            "16 block5_conv2 True\n",
            "17 block5_conv3 True\n",
            "18 block5_pool True\n"
          ]
        }
      ],
      "source": [
        "vgg_conv = kb.applications.vgg16.VGG16(\n",
        "    weights = \"imagenet\",\n",
        "    include_top = False,\n",
        "    input_shape = (180,180,3)\n",
        ")\n",
        "\n",
        "# Freeze four convolution blocks\n",
        "for layer in vgg_conv.layers[:15]:\n",
        "    layer.trainable = False\n",
        "# Make sure you have frozen the correct layers\n",
        "for i, layer in enumerate(vgg_conv.layers):\n",
        "    print(i, layer.name, layer.trainable)"
      ]
    },
    {
      "cell_type": "code",
      "execution_count": 14,
      "metadata": {
        "id": "8JTA3Gi9O_oV"
      },
      "outputs": [],
      "source": [
        "inputs = kb.Input(shape=(180, 180, 3))\n",
        "x = kb.applications.vgg16.preprocess_input(inputs)\n",
        "x = vgg_conv(x)\n",
        "x = kb.layers.Flatten()(x)\n",
        "x = kb.layers.Dense(256)(x)\n",
        "x = kb.layers.Dropout(0.5)(x)\n",
        "outputs = kb.layers.Dense(1, activation=\"sigmoid\")(x)\n",
        "\n",
        "transfer_model = kb.Model(inputs, outputs)\n",
        "transfer_model.compile(loss=\"binary_crossentropy\",\n",
        "              optimizer=kb.optimizers.RMSprop(learning_rate=1e-5),\n",
        "              metrics=[\"accuracy\"])"
      ]
    },
    {
      "cell_type": "code",
      "execution_count": 15,
      "metadata": {
        "colab": {
          "base_uri": "https://localhost:8080/"
        },
        "id": "G9-fOSM9O_oV",
        "outputId": "f088cc0e-617e-44f3-acea-c4932b14e7d5"
      },
      "outputs": [
        {
          "name": "stdout",
          "output_type": "stream",
          "text": [
            "Epoch 1/5\n",
            "63/63 [==============================] - 18s 213ms/step - loss: 188.1338 - accuracy: 0.4850 - val_loss: 0.6932 - val_accuracy: 0.5000\n",
            "Epoch 2/5\n",
            "63/63 [==============================] - 14s 215ms/step - loss: 0.6937 - accuracy: 0.4910 - val_loss: 0.6933 - val_accuracy: 0.5000\n",
            "Epoch 3/5\n",
            "63/63 [==============================] - 14s 220ms/step - loss: 0.6935 - accuracy: 0.4970 - val_loss: 0.6934 - val_accuracy: 0.5000\n",
            "Epoch 4/5\n",
            "63/63 [==============================] - 14s 216ms/step - loss: 0.6942 - accuracy: 0.4625 - val_loss: 0.6932 - val_accuracy: 0.5000\n",
            "Epoch 5/5\n",
            "63/63 [==============================] - 13s 212ms/step - loss: 0.6936 - accuracy: 0.5030 - val_loss: 0.6935 - val_accuracy: 0.5000\n"
          ]
        },
        {
          "data": {
            "text/plain": [
              "<keras.callbacks.History at 0x7fb8fbc82d60>"
            ]
          },
          "execution_count": 15,
          "metadata": {},
          "output_type": "execute_result"
        }
      ],
      "source": [
        "transfer_model.fit(train_dataset, epochs=5, validation_data=(test_dataset))"
      ]
    },
    {
      "cell_type": "code",
      "execution_count": 16,
      "metadata": {
        "colab": {
          "base_uri": "https://localhost:8080/"
        },
        "id": "RWJVC8BwTCku",
        "outputId": "62829d65-9905-4c70-8b93-a9dd497385c6"
      },
      "outputs": [
        {
          "name": "stdout",
          "output_type": "stream",
          "text": [
            "Model: \"model_1\"\n",
            "_________________________________________________________________\n",
            " Layer (type)                Output Shape              Param #   \n",
            "=================================================================\n",
            " input_4 (InputLayer)        [(None, 180, 180, 3)]     0         \n",
            "                                                                 \n",
            " tf.__operators__.getitem_1   (None, 180, 180, 3)      0         \n",
            " (SlicingOpLambda)                                               \n",
            "                                                                 \n",
            " tf.nn.bias_add_1 (TFOpLambd  (None, 180, 180, 3)      0         \n",
            " a)                                                              \n",
            "                                                                 \n",
            " vgg16 (Functional)          (None, 5, 5, 512)         14714688  \n",
            "                                                                 \n",
            " flatten_1 (Flatten)         (None, 12800)             0         \n",
            "                                                                 \n",
            " dense_2 (Dense)             (None, 256)               3277056   \n",
            "                                                                 \n",
            " dropout_1 (Dropout)         (None, 256)               0         \n",
            "                                                                 \n",
            " dense_3 (Dense)             (None, 1)                 257       \n",
            "                                                                 \n",
            "=================================================================\n",
            "Total params: 17,992,001\n",
            "Trainable params: 10,356,737\n",
            "Non-trainable params: 7,635,264\n",
            "_________________________________________________________________\n"
          ]
        }
      ],
      "source": [
        "transfer_model.summary()"
      ]
    },
    {
      "cell_type": "markdown",
      "metadata": {
        "id": "JiNyrECCUR2Z"
      },
      "source": [
        "Compare the number of `Non-trainable params:` in this model compared to the last one we trained. "
      ]
    }
  ],
  "metadata": {
    "accelerator": "GPU",
    "colab": {
      "provenance": []
    },
    "gpuClass": "standard",
    "kernelspec": {
      "display_name": "Python 3",
      "language": "python",
      "name": "python3"
    },
    "language_info": {
      "codemirror_mode": {
        "name": "ipython",
        "version": 3
      },
      "file_extension": ".py",
      "mimetype": "text/x-python",
      "name": "python",
      "nbconvert_exporter": "python",
      "pygments_lexer": "ipython3",
      "version": "3.8.1"
    },
    "orig_nbformat": 4
  },
  "nbformat": 4,
  "nbformat_minor": 0
}
