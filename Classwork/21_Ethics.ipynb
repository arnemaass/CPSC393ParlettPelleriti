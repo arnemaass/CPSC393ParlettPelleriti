{
 "cells": [
  {
   "attachments": {},
   "cell_type": "markdown",
   "metadata": {},
   "source": [
    "# AI Ethics\n",
    "\n",
    "## Stochastic Parrots\n",
    "We read the paper \"On the Dangers of Stochastic Parrots\" which talks about some concerns about Large Language Models (LLMs) specifically. The Paper focuses on three main areas of concern:\n",
    "\n",
    "1. Environmental Impact of LLMs\n",
    "2. Biases in Training Data\n",
    "3. Misues of LLMs\n",
    "\n",
    "We'll also talk about:\n",
    "\n",
    "4. The impact of LLMs on who is creating new content\n",
    "5. Concerns about Generative Models (like Copilot, DALLE, GPT) and informed consent\n",
    "6. Deep Fakes\n",
    "\n",
    "\n",
    "## Misc Case Studies\n",
    "- [Science in the Age of LLMs](https://www.nature.com/articles/s42254-023-00581-4)\n",
    "- [Bias in LLMs Example](https://twitter.com/mmitchell_ai/status/1650110045781393410?s=20)\n",
    "- [Giving Credit with LLMs](https://twitter.com/ylecun/status/1651197152394379267?s=20)\n",
    "- [The Complications of Regulating AI](https://www.marketplace.org/shows/marketplace-tech/the-complications-of-regulating-ai/)\n",
    "- [Factually! with Adam Conover: AI and Stochastic Parrots with Emily Bender and Timnit Gebru](https://cms.megaphone.fm/channel/STA7224687510?selected=BALJIWAH6261790586)\n",
    "\n",
    "\n",
    "## Discussion Questions\n",
    "\n",
    "In your groups, discuss the following questions and then we'll join together as a class to talk.\n",
    "\n",
    "- We've mostly discussed the cool things we can do with Deep Learning, how does this change the way you think about what kinds of things should be done with Deep Learning?\n",
    "- Do you feel like the potential downsides of Deep Learning/LLMs are talked about as much as the upsides?\n",
    "- If you're a person putting out these large, pre-trained models one day, how will you help steer people in the right direction, and away from potential misuses of the tools you create?\n",
    "- How much responsibility does the creator of a tool like this have in how people use it?\n",
    "- Are you worried about Deep Fakes impacting your life or your family members' lives?\n",
    "- How do you think LLMs will change undergraduate education?\n",
    "- What content on the internet do you think is \"fair game\" for training these models? What isn't?\n",
    "- Do you think tools like Bard/GPT will change the way people write (code or text)? Do you think that will be an issue?\n",
    "- Many of these LLMs aren't open source, does that worry you, or do you think it's better to not let people have access to this technology?\n",
    "- Should these types of models be regulated/legislated? If yes: the field of ML moves so quickly, how will any regulation keep up with that?\n",
    "- Do you think that your knowledge about how these models works puts you in a better place to understand how to use them ethically compared to your friends/family who don't have that background?\n",
    "- Does art created by Generative Models have the same impact on you as art made by humans? Is art influenced by the experience of the artist? or only the experience of the viewer?\n",
    "- Is there a difference between a human being influenced by another artist vs. a model training on the artists data and creating something using that style? Does the scale matter (e.g. a human can't create as much copied/influenced content as an AI)\n",
    "\n",
    "\n",
    "\n",
    "<img src=\"https://imgs.xkcd.com/comics/predictive_models_2x.png\"/>\n"
   ]
  }
 ],
 "metadata": {
  "language_info": {
   "name": "python"
  },
  "orig_nbformat": 4
 },
 "nbformat": 4,
 "nbformat_minor": 2
}
