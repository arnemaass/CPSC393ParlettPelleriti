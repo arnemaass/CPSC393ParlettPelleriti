{
  "cells": [
    {
      "cell_type": "code",
      "execution_count": null,
      "metadata": {
        "id": "SvT_MsRiAt6s"
      },
      "outputs": [],
      "source": [
        "# data packages\n",
        "import numpy as np\n",
        "import pandas as pd\n",
        "\n",
        "from sklearn.preprocessing import LabelBinarizer\n",
        "from sklearn.metrics import mean_squared_error, mean_absolute_error, roc_auc_score\n",
        "from sklearn.preprocessing import StandardScaler #Z-score variables\n",
        "from sklearn.model_selection import train_test_split # simple TT split cv\n",
        "\n",
        "# keras + torch\n",
        "from keras.datasets import mnist\n",
        "import keras as kb\n",
        "import torch\n",
        "\n",
        "# set up torch backend\n",
        "import os\n",
        "os.environ[\"KERAS_BACKEND\"] = \"torch\"\n",
        "\n",
        "# plotting\n",
        "import matplotlib.pyplot as plt"
      ]
    },
    {
      "cell_type": "markdown",
      "metadata": {
        "id": "dZA76RVpAt6u"
      },
      "source": [
        "# Basic Torch Operations\n",
        "\n",
        "While we'll often be using the neural network specific parts of Torch (or using it through Keras), it's good to know what's going on \"under the hood\" so let's look at how Torch represents tensors, and how we can use them.\n",
        "\n",
        "\n",
        "First we'll look at a few ways to create a torch tensor:"
      ]
    },
    {
      "cell_type": "code",
      "execution_count": null,
      "metadata": {
        "id": "QGFwGWUmAt6v"
      },
      "outputs": [],
      "source": [
        "x = torch.tensor([2, 3])"
      ]
    },
    {
      "cell_type": "code",
      "source": [
        "x = torch.ones(size=(2, 2))"
      ],
      "metadata": {
        "id": "cN7fuSddrTlB"
      },
      "execution_count": null,
      "outputs": []
    },
    {
      "cell_type": "code",
      "source": [
        "x = torch.zeros(size=(2, 1))"
      ],
      "metadata": {
        "id": "hhBQyZ-crUtj"
      },
      "execution_count": null,
      "outputs": []
    },
    {
      "cell_type": "code",
      "source": [
        "x = torch.rand(size=(2,1))"
      ],
      "metadata": {
        "id": "Nvmr_X0ZrVpI"
      },
      "execution_count": null,
      "outputs": []
    },
    {
      "cell_type": "code",
      "source": [
        "x = torch.reshape(x,(-1,))\n",
        "x.size()"
      ],
      "metadata": {
        "colab": {
          "base_uri": "https://localhost:8080/"
        },
        "id": "g3EmiiIjrOPx",
        "outputId": "0095d76e-0275-40b1-e4d1-50bc3a0ff02a"
      },
      "execution_count": null,
      "outputs": [
        {
          "output_type": "execute_result",
          "data": {
            "text/plain": [
              "torch.Size([2])"
            ]
          },
          "metadata": {},
          "execution_count": 40
        }
      ]
    },
    {
      "cell_type": "markdown",
      "source": [
        "Next, we'll look at some matrix operations we can do using tensors."
      ],
      "metadata": {
        "id": "bMv3OiJ_pwAT"
      }
    },
    {
      "cell_type": "code",
      "execution_count": null,
      "metadata": {
        "id": "P-ee34R6At6w",
        "outputId": "fd6ea204-dc69-4825-dda6-946d64593aca",
        "colab": {
          "base_uri": "https://localhost:8080/"
        }
      },
      "outputs": [
        {
          "output_type": "execute_result",
          "data": {
            "text/plain": [
              "tensor([0.2726, 0.3048])"
            ]
          },
          "metadata": {},
          "execution_count": 41
        }
      ],
      "source": [
        "torch.square(x)"
      ]
    },
    {
      "cell_type": "code",
      "execution_count": null,
      "metadata": {
        "id": "Y72LJYqaAt6x",
        "outputId": "4c355ddb-1271-44fc-cb9a-35bbfc613115",
        "colab": {
          "base_uri": "https://localhost:8080/"
        }
      },
      "outputs": [
        {
          "output_type": "execute_result",
          "data": {
            "text/plain": [
              "tensor([0.7226, 0.7430])"
            ]
          },
          "metadata": {},
          "execution_count": 42
        }
      ],
      "source": [
        "torch.sqrt(x)"
      ]
    },
    {
      "cell_type": "code",
      "execution_count": null,
      "metadata": {
        "id": "JzbRnTD7At6x",
        "outputId": "cfd357a7-980b-48b5-d3cb-22ddbb2ebd44",
        "colab": {
          "base_uri": "https://localhost:8080/"
        }
      },
      "outputs": [
        {
          "output_type": "execute_result",
          "data": {
            "text/plain": [
              "tensor([[1.5221, 1.5521],\n",
              "        [1.5221, 1.5521]])"
            ]
          },
          "metadata": {},
          "execution_count": 43
        }
      ],
      "source": [
        "y = torch.ones(size = (2,1))\n",
        "\n",
        "x + y"
      ]
    },
    {
      "cell_type": "code",
      "execution_count": null,
      "metadata": {
        "id": "o0Qwk8VbAt6y",
        "outputId": "9c75f8b4-44b3-4b8a-f742-f36297ef4832",
        "colab": {
          "base_uri": "https://localhost:8080/"
        }
      },
      "outputs": [
        {
          "output_type": "execute_result",
          "data": {
            "text/plain": [
              "tensor([0.9812, 0.4960])"
            ]
          },
          "metadata": {},
          "execution_count": 44
        }
      ],
      "source": [
        "z = torch.rand(size = (2,2))\n",
        "torch.matmul(z,x) #2x2 * 2*1"
      ]
    },
    {
      "cell_type": "code",
      "source": [
        "torch.dot(torch.tensor([2, 3]), torch.tensor([2, 1]))"
      ],
      "metadata": {
        "colab": {
          "base_uri": "https://localhost:8080/"
        },
        "id": "EpoNxocnqmjQ",
        "outputId": "8c31f6fc-6e15-45d1-fca5-ed76a796efc5"
      },
      "execution_count": null,
      "outputs": [
        {
          "output_type": "execute_result",
          "data": {
            "text/plain": [
              "tensor(7)"
            ]
          },
          "metadata": {},
          "execution_count": 45
        }
      ]
    },
    {
      "cell_type": "markdown",
      "metadata": {
        "id": "ongSvnh9At60"
      },
      "source": [
        "# Gradients (the reason we're all here)\n",
        "\n",
        "So far, Torch is looking a lot like a fancy numpy. But it's a lot more than that. Torch allows us to very easily calculate and track gradients, and use them to update parameters in our model.\n"
      ]
    },
    {
      "cell_type": "markdown",
      "metadata": {
        "id": "VNCvuzS9At61"
      },
      "source": [
        "# Linear Regression with Torch\n",
        "\n",
        "Here we'll build a Linear Regression Model from scratch using JUST PyTorch. Let's look at the code to see how it works (luckily we won't often do this):"
      ]
    },
    {
      "cell_type": "code",
      "execution_count": null,
      "metadata": {
        "id": "-ljm5f8xAt61"
      },
      "outputs": [],
      "source": [
        "# generate data\n",
        "X = torch.arange(-5, 5, 0.1).view(-1, 1) #.view() reshapes our data to be an array with a single dimension\n",
        "# X.size()\n",
        "\n",
        "# coefficient is -6, intercept is 4\n",
        "Y = 4 + -6 * X + 0.2 * torch.randn(X.size())"
      ]
    },
    {
      "cell_type": "markdown",
      "source": [
        "First, we'll define two functions: `forward` and `loss` which define what a forward pass (prediction) of the model, and the loss function for the model (MSE), respectively."
      ],
      "metadata": {
        "id": "oIMXoFXfCEo4"
      }
    },
    {
      "cell_type": "code",
      "source": [
        "# a forward pass is how we use the model to make a prediction\n",
        "def forward(x):\n",
        "    return w * x + b\n",
        "\n",
        "# define a loss function, in this case MSE\n",
        "def loss(y_pred, y):\n",
        "    return torch.mean((y_pred - y) ** 2)"
      ],
      "metadata": {
        "id": "mk6MNzaJD9QI"
      },
      "execution_count": null,
      "outputs": []
    },
    {
      "cell_type": "markdown",
      "source": [
        "Then we'll define torch `tensor` objects that will store and track our different model parameters (`w` the coefficient for our model, and `b` the intercept/bias of the model).\n",
        "\n",
        "Next, we'll set a few parameters:\n",
        "\n",
        "- `step_size`: this determines the size of the adjustment we're making to our parameters at each update (remember: $w_{new} = w_{old} - \\alpha * g$)\n",
        "- `loss_list`: a list to store our loss history, so we can plot it later\n",
        "- `iter`: the number of updates to make to our parameters"
      ],
      "metadata": {
        "id": "5WvOJwHFCrqo"
      }
    },
    {
      "cell_type": "code",
      "source": [
        "w = torch.tensor(-10.0, requires_grad=True) # create a tensor to store our coefficient, set it to -10 initially\n",
        "b = torch.tensor(-20.0, requires_grad=True) # create a tensor to store our intercept, set it to -20 initially\n",
        "\n",
        "\n",
        "# how BIG of an adjustment should we make to w and b each step\n",
        "step_size = 0.1\n",
        "\n",
        "# track loss over time\n",
        "loss_list = []\n",
        "\n",
        "# number of steps\n",
        "iter = 100"
      ],
      "metadata": {
        "id": "CgZsE1U6EE9-"
      },
      "execution_count": null,
      "outputs": []
    },
    {
      "cell_type": "markdown",
      "source": [
        "Now, we'll use a `for` loop to actually run our updates.\n",
        "\n",
        "We will:\n",
        "\n",
        "1. do a forward pass (make a prediction using current weights)\n",
        "2. calculate the loss from those predictions\n",
        "3. store the loss\n",
        "4. do a packward pass (calculate the gradients)\n",
        "5. update our parameters, `w` and `b`\n",
        "6. zero out our gradients so we can start over on the next iteration"
      ],
      "metadata": {
        "id": "xVP3WJhRDkjv"
      }
    },
    {
      "cell_type": "code",
      "source": [
        "for i in range(iter):\n",
        "  # 1. making predictions\n",
        "  Y_pred = forward(X)\n",
        "\n",
        "  # 2. calculating the loss\n",
        "  loss_val = loss(Y_pred, Y)\n",
        "\n",
        "  # 3. storing the calculated loss in a list\n",
        "  loss_list.append(loss_val.item())\n",
        "\n",
        "  # 4. backward pass for computing the gradients of the loss w.r.t to w and b\n",
        "  loss_val.backward()\n",
        "\n",
        "  # 5. update the w/b\n",
        "  w.data = w.data - step_size * w.grad.data\n",
        "  b.data = b.data - step_size * b.grad.data\n",
        "\n",
        "  # 6. zeroing gradients after each iteration\n",
        "  w.grad.data.zero_()\n",
        "  b.grad.data.zero_()\n",
        "\n",
        "  # priting the values for understanding\n",
        "  print('iter: {}, \\tloss: {}, \\tcoef: {}, \\tinterc: {}'.format(i, loss_val.item(), w.item(), b.item()))"
      ],
      "metadata": {
        "colab": {
          "base_uri": "https://localhost:8080/"
        },
        "id": "sL8KtImvEc52",
        "outputId": "4f19d356-bd3c-4347-a39d-0cd32dc1cbf4"
      },
      "execution_count": null,
      "outputs": [
        {
          "output_type": "stream",
          "name": "stdout",
          "text": [
            "iter: 0, \tloss: 0.04759201034903526, \tcoef: -6.009518146514893, \tinterc: 4.005242824554443\n",
            "iter: 1, \tloss: 0.04759201034903526, \tcoef: -6.009518146514893, \tinterc: 4.005242824554443\n",
            "iter: 2, \tloss: 0.04759201034903526, \tcoef: -6.009518146514893, \tinterc: 4.005242824554443\n",
            "iter: 3, \tloss: 0.04759201034903526, \tcoef: -6.009518146514893, \tinterc: 4.005242824554443\n",
            "iter: 4, \tloss: 0.04759201034903526, \tcoef: -6.009518146514893, \tinterc: 4.005242824554443\n",
            "iter: 5, \tloss: 0.04759201034903526, \tcoef: -6.009518146514893, \tinterc: 4.005242824554443\n",
            "iter: 6, \tloss: 0.04759201034903526, \tcoef: -6.009518146514893, \tinterc: 4.005242824554443\n",
            "iter: 7, \tloss: 0.04759201034903526, \tcoef: -6.009518146514893, \tinterc: 4.005242824554443\n",
            "iter: 8, \tloss: 0.04759201034903526, \tcoef: -6.009518146514893, \tinterc: 4.005242824554443\n",
            "iter: 9, \tloss: 0.04759201034903526, \tcoef: -6.009518146514893, \tinterc: 4.005242824554443\n",
            "iter: 10, \tloss: 0.04759201034903526, \tcoef: -6.009518146514893, \tinterc: 4.005242824554443\n",
            "iter: 11, \tloss: 0.04759201034903526, \tcoef: -6.009518146514893, \tinterc: 4.005242824554443\n",
            "iter: 12, \tloss: 0.04759201034903526, \tcoef: -6.009518146514893, \tinterc: 4.005242824554443\n",
            "iter: 13, \tloss: 0.04759201034903526, \tcoef: -6.009518146514893, \tinterc: 4.005242824554443\n",
            "iter: 14, \tloss: 0.04759201034903526, \tcoef: -6.009518146514893, \tinterc: 4.005242824554443\n",
            "iter: 15, \tloss: 0.04759201034903526, \tcoef: -6.009518146514893, \tinterc: 4.005242824554443\n",
            "iter: 16, \tloss: 0.04759201034903526, \tcoef: -6.009518146514893, \tinterc: 4.005242824554443\n",
            "iter: 17, \tloss: 0.04759201034903526, \tcoef: -6.009518146514893, \tinterc: 4.005242824554443\n",
            "iter: 18, \tloss: 0.04759201034903526, \tcoef: -6.009518146514893, \tinterc: 4.005242824554443\n",
            "iter: 19, \tloss: 0.04759201034903526, \tcoef: -6.009518146514893, \tinterc: 4.005242824554443\n",
            "iter: 20, \tloss: 0.04759201034903526, \tcoef: -6.009518146514893, \tinterc: 4.005242824554443\n",
            "iter: 21, \tloss: 0.04759201034903526, \tcoef: -6.009518146514893, \tinterc: 4.005242824554443\n",
            "iter: 22, \tloss: 0.04759201034903526, \tcoef: -6.009518146514893, \tinterc: 4.005242824554443\n",
            "iter: 23, \tloss: 0.04759201034903526, \tcoef: -6.009518146514893, \tinterc: 4.005242824554443\n",
            "iter: 24, \tloss: 0.04759201034903526, \tcoef: -6.009518146514893, \tinterc: 4.005242824554443\n",
            "iter: 25, \tloss: 0.04759201034903526, \tcoef: -6.009518146514893, \tinterc: 4.005242824554443\n",
            "iter: 26, \tloss: 0.04759201034903526, \tcoef: -6.009518146514893, \tinterc: 4.005242824554443\n",
            "iter: 27, \tloss: 0.04759201034903526, \tcoef: -6.009518146514893, \tinterc: 4.005242824554443\n",
            "iter: 28, \tloss: 0.04759201034903526, \tcoef: -6.009518146514893, \tinterc: 4.005242824554443\n",
            "iter: 29, \tloss: 0.04759201034903526, \tcoef: -6.009518146514893, \tinterc: 4.005242824554443\n",
            "iter: 30, \tloss: 0.04759201034903526, \tcoef: -6.009518146514893, \tinterc: 4.005242824554443\n",
            "iter: 31, \tloss: 0.04759201034903526, \tcoef: -6.009518146514893, \tinterc: 4.005242824554443\n",
            "iter: 32, \tloss: 0.04759201034903526, \tcoef: -6.009518146514893, \tinterc: 4.005242824554443\n",
            "iter: 33, \tloss: 0.04759201034903526, \tcoef: -6.009518146514893, \tinterc: 4.005242824554443\n",
            "iter: 34, \tloss: 0.04759201034903526, \tcoef: -6.009518146514893, \tinterc: 4.005242824554443\n",
            "iter: 35, \tloss: 0.04759201034903526, \tcoef: -6.009518146514893, \tinterc: 4.005242824554443\n",
            "iter: 36, \tloss: 0.04759201034903526, \tcoef: -6.009518146514893, \tinterc: 4.005242824554443\n",
            "iter: 37, \tloss: 0.04759201034903526, \tcoef: -6.009518146514893, \tinterc: 4.005242824554443\n",
            "iter: 38, \tloss: 0.04759201034903526, \tcoef: -6.009518146514893, \tinterc: 4.005242824554443\n",
            "iter: 39, \tloss: 0.04759201034903526, \tcoef: -6.009518146514893, \tinterc: 4.005242824554443\n",
            "iter: 40, \tloss: 0.04759201034903526, \tcoef: -6.009518146514893, \tinterc: 4.005242824554443\n",
            "iter: 41, \tloss: 0.04759201034903526, \tcoef: -6.009518146514893, \tinterc: 4.005242824554443\n",
            "iter: 42, \tloss: 0.04759201034903526, \tcoef: -6.009518146514893, \tinterc: 4.005242824554443\n",
            "iter: 43, \tloss: 0.04759201034903526, \tcoef: -6.009518146514893, \tinterc: 4.005242824554443\n",
            "iter: 44, \tloss: 0.04759201034903526, \tcoef: -6.009518146514893, \tinterc: 4.005242824554443\n",
            "iter: 45, \tloss: 0.04759201034903526, \tcoef: -6.009518146514893, \tinterc: 4.005242824554443\n",
            "iter: 46, \tloss: 0.04759201034903526, \tcoef: -6.009518146514893, \tinterc: 4.005242824554443\n",
            "iter: 47, \tloss: 0.04759201034903526, \tcoef: -6.009518146514893, \tinterc: 4.005242824554443\n",
            "iter: 48, \tloss: 0.04759201034903526, \tcoef: -6.009518146514893, \tinterc: 4.005242824554443\n",
            "iter: 49, \tloss: 0.04759201034903526, \tcoef: -6.009518146514893, \tinterc: 4.005242824554443\n",
            "iter: 50, \tloss: 0.04759201034903526, \tcoef: -6.009518146514893, \tinterc: 4.005242824554443\n",
            "iter: 51, \tloss: 0.04759201034903526, \tcoef: -6.009518146514893, \tinterc: 4.005242824554443\n",
            "iter: 52, \tloss: 0.04759201034903526, \tcoef: -6.009518146514893, \tinterc: 4.005242824554443\n",
            "iter: 53, \tloss: 0.04759201034903526, \tcoef: -6.009518146514893, \tinterc: 4.005242824554443\n",
            "iter: 54, \tloss: 0.04759201034903526, \tcoef: -6.009518146514893, \tinterc: 4.005242824554443\n",
            "iter: 55, \tloss: 0.04759201034903526, \tcoef: -6.009518146514893, \tinterc: 4.005242824554443\n",
            "iter: 56, \tloss: 0.04759201034903526, \tcoef: -6.009518146514893, \tinterc: 4.005242824554443\n",
            "iter: 57, \tloss: 0.04759201034903526, \tcoef: -6.009518146514893, \tinterc: 4.005242824554443\n",
            "iter: 58, \tloss: 0.04759201034903526, \tcoef: -6.009518146514893, \tinterc: 4.005242824554443\n",
            "iter: 59, \tloss: 0.04759201034903526, \tcoef: -6.009518146514893, \tinterc: 4.005242824554443\n",
            "iter: 60, \tloss: 0.04759201034903526, \tcoef: -6.009518146514893, \tinterc: 4.005242824554443\n",
            "iter: 61, \tloss: 0.04759201034903526, \tcoef: -6.009518146514893, \tinterc: 4.005242824554443\n",
            "iter: 62, \tloss: 0.04759201034903526, \tcoef: -6.009518146514893, \tinterc: 4.005242824554443\n",
            "iter: 63, \tloss: 0.04759201034903526, \tcoef: -6.009518146514893, \tinterc: 4.005242824554443\n",
            "iter: 64, \tloss: 0.04759201034903526, \tcoef: -6.009518146514893, \tinterc: 4.005242824554443\n",
            "iter: 65, \tloss: 0.04759201034903526, \tcoef: -6.009518146514893, \tinterc: 4.005242824554443\n",
            "iter: 66, \tloss: 0.04759201034903526, \tcoef: -6.009518146514893, \tinterc: 4.005242824554443\n",
            "iter: 67, \tloss: 0.04759201034903526, \tcoef: -6.009518146514893, \tinterc: 4.005242824554443\n",
            "iter: 68, \tloss: 0.04759201034903526, \tcoef: -6.009518146514893, \tinterc: 4.005242824554443\n",
            "iter: 69, \tloss: 0.04759201034903526, \tcoef: -6.009518146514893, \tinterc: 4.005242824554443\n",
            "iter: 70, \tloss: 0.04759201034903526, \tcoef: -6.009518146514893, \tinterc: 4.005242824554443\n",
            "iter: 71, \tloss: 0.04759201034903526, \tcoef: -6.009518146514893, \tinterc: 4.005242824554443\n",
            "iter: 72, \tloss: 0.04759201034903526, \tcoef: -6.009518146514893, \tinterc: 4.005242824554443\n",
            "iter: 73, \tloss: 0.04759201034903526, \tcoef: -6.009518146514893, \tinterc: 4.005242824554443\n",
            "iter: 74, \tloss: 0.04759201034903526, \tcoef: -6.009518146514893, \tinterc: 4.005242824554443\n",
            "iter: 75, \tloss: 0.04759201034903526, \tcoef: -6.009518146514893, \tinterc: 4.005242824554443\n",
            "iter: 76, \tloss: 0.04759201034903526, \tcoef: -6.009518146514893, \tinterc: 4.005242824554443\n",
            "iter: 77, \tloss: 0.04759201034903526, \tcoef: -6.009518146514893, \tinterc: 4.005242824554443\n",
            "iter: 78, \tloss: 0.04759201034903526, \tcoef: -6.009518146514893, \tinterc: 4.005242824554443\n",
            "iter: 79, \tloss: 0.04759201034903526, \tcoef: -6.009518146514893, \tinterc: 4.005242824554443\n",
            "iter: 80, \tloss: 0.04759201034903526, \tcoef: -6.009518146514893, \tinterc: 4.005242824554443\n",
            "iter: 81, \tloss: 0.04759201034903526, \tcoef: -6.009518146514893, \tinterc: 4.005242824554443\n",
            "iter: 82, \tloss: 0.04759201034903526, \tcoef: -6.009518146514893, \tinterc: 4.005242824554443\n",
            "iter: 83, \tloss: 0.04759201034903526, \tcoef: -6.009518146514893, \tinterc: 4.005242824554443\n",
            "iter: 84, \tloss: 0.04759201034903526, \tcoef: -6.009518146514893, \tinterc: 4.005242824554443\n",
            "iter: 85, \tloss: 0.04759201034903526, \tcoef: -6.009518146514893, \tinterc: 4.005242824554443\n",
            "iter: 86, \tloss: 0.04759201034903526, \tcoef: -6.009518146514893, \tinterc: 4.005242824554443\n",
            "iter: 87, \tloss: 0.04759201034903526, \tcoef: -6.009518146514893, \tinterc: 4.005242824554443\n",
            "iter: 88, \tloss: 0.04759201034903526, \tcoef: -6.009518146514893, \tinterc: 4.005242824554443\n",
            "iter: 89, \tloss: 0.04759201034903526, \tcoef: -6.009518146514893, \tinterc: 4.005242824554443\n",
            "iter: 90, \tloss: 0.04759201034903526, \tcoef: -6.009518146514893, \tinterc: 4.005242824554443\n",
            "iter: 91, \tloss: 0.04759201034903526, \tcoef: -6.009518146514893, \tinterc: 4.005242824554443\n",
            "iter: 92, \tloss: 0.04759201034903526, \tcoef: -6.009518146514893, \tinterc: 4.005242824554443\n",
            "iter: 93, \tloss: 0.04759201034903526, \tcoef: -6.009518146514893, \tinterc: 4.005242824554443\n",
            "iter: 94, \tloss: 0.04759201034903526, \tcoef: -6.009518146514893, \tinterc: 4.005242824554443\n",
            "iter: 95, \tloss: 0.04759201034903526, \tcoef: -6.009518146514893, \tinterc: 4.005242824554443\n",
            "iter: 96, \tloss: 0.04759201034903526, \tcoef: -6.009518146514893, \tinterc: 4.005242824554443\n",
            "iter: 97, \tloss: 0.04759201034903526, \tcoef: -6.009518146514893, \tinterc: 4.005242824554443\n",
            "iter: 98, \tloss: 0.04759201034903526, \tcoef: -6.009518146514893, \tinterc: 4.005242824554443\n",
            "iter: 99, \tloss: 0.04759201034903526, \tcoef: -6.009518146514893, \tinterc: 4.005242824554443\n"
          ]
        }
      ]
    },
    {
      "cell_type": "markdown",
      "source": [
        "Last, we'll plot our loss over time. Notice we converge on the true values quite quickly!"
      ],
      "metadata": {
        "id": "sh_d-bWnELmq"
      }
    },
    {
      "cell_type": "code",
      "source": [
        "plt.plot(loss_list, 'r')\n",
        "plt.grid('True', color='grey')\n",
        "plt.xlabel(\"Epochs/Iterations\")\n",
        "plt.ylabel(\"Loss\")\n",
        "plt.show()"
      ],
      "metadata": {
        "colab": {
          "base_uri": "https://localhost:8080/",
          "height": 449
        },
        "id": "7zuzRy8wFK6r",
        "outputId": "0db794f3-67b0-4b4b-96d2-b2262d1855b8"
      },
      "execution_count": null,
      "outputs": [
        {
          "output_type": "display_data",
          "data": {
            "text/plain": [
              "<Figure size 640x480 with 1 Axes>"
            ],
            "image/png": "[encoded data removed]"
          },
          "metadata": {}
        }
      ]
    },
    {
      "cell_type": "markdown",
      "metadata": {
        "id": "7vPRe7X2At62"
      },
      "source": [
        "# Basic Keras Compnents\n",
        "\n",
        "Now that we've seen how pyTorch works \"under the hood\", let's see how we can use Keras (with a pyTorch backend) to create neural networks.\n",
        "\n",
        "There are 3 main ways we'll interact with the Keras package: Using **`Sequential()`** (which is what we've done up to this point), using the **Functional API**, and **Subclassing** the `Model` class.\n",
        "\n",
        "## Model Objects\n",
        "- `Model()`: an object that groups layers together to be trained and to make predictions\n",
        "\n",
        "\n",
        "With `Model()` objects we can either use the **Functional API** to interface with them, or we can **subclass** the `Model()` object.\n",
        "\n",
        "### Functional API\n",
        "Here, we treat layers as functions that have input tensors and output tensors. Each layer takes in the output from the previous layer."
      ]
    },
    {
      "cell_type": "code",
      "execution_count": null,
      "metadata": {
        "id": "ESaBudIIAt62",
        "outputId": "4840a563-8b84-4109-bce9-bbe7e8d6b252",
        "colab": {
          "base_uri": "https://localhost:8080/"
        }
      },
      "outputs": [
        {
          "output_type": "stream",
          "name": "stdout",
          "text": [
            "Model: \"model\"\n",
            "_________________________________________________________________\n",
            " Layer (type)                Output Shape              Param #   \n",
            "=================================================================\n",
            " input_1 (InputLayer)        [(None, 25)]              0         \n",
            "                                                                 \n",
            " dense (Dense)               (None, 10)                260       \n",
            "                                                                 \n",
            " dense_1 (Dense)             (None, 5)                 55        \n",
            "                                                                 \n",
            " dense_2 (Dense)             (None, 2)                 12        \n",
            "                                                                 \n",
            " dense_3 (Dense)             (None, 1)                 3         \n",
            "                                                                 \n",
            "=================================================================\n",
            "Total params: 330 (1.29 KB)\n",
            "Trainable params: 330 (1.29 KB)\n",
            "Non-trainable params: 0 (0.00 Byte)\n",
            "_________________________________________________________________\n"
          ]
        }
      ],
      "source": [
        "# Functional API building\n",
        "\n",
        "inputs = kb.Input(shape = (25,))\n",
        "\n",
        "x = kb.layers.Dense(10)(inputs)\n",
        "\n",
        "x = kb.layers.Dense(5)(x)\n",
        "\n",
        "x = kb.layers.Dense(2)(x)\n",
        "\n",
        "outputs = kb.layers.Dense(1, activation = kb.activations.relu)(x)\n",
        "\n",
        "model = kb.Model(inputs = inputs, outputs = outputs)\n",
        "\n",
        "model.summary()\n"
      ]
    },
    {
      "cell_type": "markdown",
      "metadata": {
        "id": "hiufisk0At62"
      },
      "source": [
        "Or we can create a new class that inherits from `Model()`.\n",
        "\n",
        "First we create a class that inherets from `kb.Model`, and then we create an `__init__` method that first calls the superclass' `__init__()` and then defines every layer that we need. We want this to happen in the constructor, otherwise the layers might be created more than once (which we do not want).\n",
        "\n",
        "Then we create a `call()` method which basically defines what a forward pass of your model looks like. It takes in the default `self` arugment as well as some input to the model. This looks similar to how we defined things using the Functional API. Then we return the output of the model.\n",
        "\n",
        "Now we can use this subclass to build a model!\n",
        "- We create inputs\n",
        "- We put those inputs into our model object\n",
        "- We put both into a `Model()` object\n"
      ]
    },
    {
      "cell_type": "code",
      "execution_count": null,
      "metadata": {
        "id": "jk-qE5DuAt63",
        "outputId": "cbbed0c3-ef4a-41dc-a5bc-1fac47a24f99",
        "colab": {
          "base_uri": "https://localhost:8080/"
        }
      },
      "outputs": [
        {
          "output_type": "stream",
          "name": "stdout",
          "text": [
            "Model: \"model_1\"\n",
            "_________________________________________________________________\n",
            " Layer (type)                Output Shape              Param #   \n",
            "=================================================================\n",
            " input_2 (InputLayer)        [(None, 25)]              0         \n",
            "                                                                 \n",
            " my_model (MyModel)          (None, 1)                 330       \n",
            "                                                                 \n",
            "=================================================================\n",
            "Total params: 330 (1.29 KB)\n",
            "Trainable params: 330 (1.29 KB)\n",
            "Non-trainable params: 0 (0.00 Byte)\n",
            "_________________________________________________________________\n"
          ]
        }
      ],
      "source": [
        "# we won't do this often but its nice to know\n",
        "\n",
        "class MyModel(kb.Model):\n",
        "\n",
        "    def __init__(self):\n",
        "        # call init from inhereted class\n",
        "        super().__init__()\n",
        "\n",
        "        # create all layers here so they're only created once\n",
        "        self.layer1 = kb.layers.Dense(10, input_shape = [25])\n",
        "        self.layer2 = kb.layers.Dense(5)\n",
        "        self.layer3 = kb.layers.Dense(2)\n",
        "        self.layer4 = kb.layers.Dense(1, activation = \"sigmoid\")\n",
        "\n",
        "    def call(self, inputs):\n",
        "        # define what a forward pass looks like\n",
        "        x = self.layer1(inputs)\n",
        "        x = self.layer2(x)\n",
        "        x = self.layer3(x)\n",
        "        return(self.layer4(x))\n",
        "\n",
        "# define input shape\n",
        "inputs = kb.Input(shape = (25,))\n",
        "\n",
        "# create a model using your custom class\n",
        "x = MyModel()(inputs)\n",
        "\n",
        "# shove the inputs and outputs into a model object\n",
        "my_model = kb.Model(inputs = inputs, outputs = x)\n",
        "\n",
        "# show me the model\n",
        "my_model.summary()"
      ]
    },
    {
      "cell_type": "markdown",
      "metadata": {
        "id": "5lIpSLHGAt63"
      },
      "source": [
        "## Sequential Object\n",
        "\n",
        "- `Sequential()`: an object that groups layers together in a linear stack (less flexible than `Model` but typically all we need)\n",
        "\n",
        "This is what we've done so far (and what we did in CPSC 392). We create a `Sequential()` object and give it a list of layers to add (in order).\n"
      ]
    },
    {
      "cell_type": "code",
      "execution_count": null,
      "metadata": {
        "id": "6nXzqn88At63",
        "outputId": "febbf7c6-ccb8-4537-f427-0e52be332d7e",
        "colab": {
          "base_uri": "https://localhost:8080/"
        }
      },
      "outputs": [
        {
          "output_type": "stream",
          "name": "stdout",
          "text": [
            "Model: \"sequential\"\n",
            "_________________________________________________________________\n",
            " Layer (type)                Output Shape              Param #   \n",
            "=================================================================\n",
            " dense_8 (Dense)             (None, 10)                260       \n",
            "                                                                 \n",
            " dense_9 (Dense)             (None, 5)                 55        \n",
            "                                                                 \n",
            " dense_10 (Dense)            (None, 2)                 12        \n",
            "                                                                 \n",
            " dense_11 (Dense)            (None, 1)                 3         \n",
            "                                                                 \n",
            "=================================================================\n",
            "Total params: 330 (1.29 KB)\n",
            "Trainable params: 330 (1.29 KB)\n",
            "Non-trainable params: 0 (0.00 Byte)\n",
            "_________________________________________________________________\n"
          ]
        }
      ],
      "source": [
        "# give Sequential a list of layers\n",
        "my_model = kb.Sequential([\n",
        "    kb.layers.Dense(10, input_shape = [25]),\n",
        "    kb.layers.Dense(5),\n",
        "    kb.layers.Dense(2),\n",
        "    kb.layers.Dense(1, activation = \"sigmoid\")\n",
        "])\n",
        "\n",
        "my_model.summary()"
      ]
    },
    {
      "cell_type": "markdown",
      "metadata": {
        "id": "L-XCO5tjAt63"
      },
      "source": [
        "If we want to add layers dynamically, we can use `.add()` and `.pop()` to add and pop layers on/off our model. This would be useful, for example, if we wanted to loop through a list of values and add layers with those values."
      ]
    },
    {
      "cell_type": "code",
      "execution_count": null,
      "metadata": {
        "id": "QVmWhNuWAt63",
        "outputId": "3e7c7bae-1134-48c3-f347-e861c5b84e02",
        "colab": {
          "base_uri": "https://localhost:8080/"
        }
      },
      "outputs": [
        {
          "output_type": "stream",
          "name": "stdout",
          "text": [
            "Model: \"sequential_1\"\n",
            "_________________________________________________________________\n",
            " Layer (type)                Output Shape              Param #   \n",
            "=================================================================\n",
            " dense_12 (Dense)            (None, 10)                260       \n",
            "                                                                 \n",
            " dense_13 (Dense)            (None, 5)                 55        \n",
            "                                                                 \n",
            " dense_14 (Dense)            (None, 2)                 12        \n",
            "                                                                 \n",
            " dense_15 (Dense)            (None, 1)                 3         \n",
            "                                                                 \n",
            "=================================================================\n",
            "Total params: 330 (1.29 KB)\n",
            "Trainable params: 330 (1.29 KB)\n",
            "Non-trainable params: 0 (0.00 Byte)\n",
            "_________________________________________________________________\n"
          ]
        }
      ],
      "source": [
        "# use .add() to dynamically add layers\n",
        "my_model = kb.Sequential()\n",
        "my_model.add(kb.layers.Dense(10, input_shape = [25]))\n",
        "my_model.add(kb.layers.Dense(5))\n",
        "my_model.add(kb.layers.Dense(2))\n",
        "my_model.add(kb.layers.Dense(1, activation = \"sigmoid\"))\n",
        "\n",
        "my_model.summary()"
      ]
    },
    {
      "cell_type": "markdown",
      "metadata": {
        "id": "eS0P_sYcAt64"
      },
      "source": [
        "\n",
        "## Layers\n",
        "Keras has many pre-defined layers that we can use (we'll learn about more of them as we learn about more model structures). For now the important layers are:\n",
        "\n",
        "- `Dense()`: A basic densely connected layer with `units` nodes. Densely connected means that every node in the previous layer is connected to every node in the current layer.\n",
        "- `Activation()`: applies an activation function (defined by the `activation` argument) to the values coming into it. This is largely the same as using the `activation` argument in a `Dense` Layer but is useful when you want to do an operation to the layer output BEFORE applying the activation (e.g. `BatchNormalization`)\n",
        "- `Input()`: A basic layer that defined the input of a model. It tells the model what the initial tensor of data that we expect to come in looks like. The `shape` argument tells the model what a *single sample* of data looks like (not a batch of samples)\n",
        "\n",
        "\n",
        "`Dense` Layers tend to be the basis of most of our Neural Networks, so let's get to know the documentation a little!\n",
        "\n",
        "- **Question** look at the [documentation](https://keras.io/api/layers/core_layers/dense/) for `Dense` layers. If I wanted to NOT have a bias for that layer, how might I tell python that?\n",
        "- **Question** look at the [documentation](https://keras.io/api/layers/core_layers/dense/) for `Dense` layers. If you do not supply a value for `activation` what activation does it use?\n",
        "\n",
        "\n",
        "There are many activation functions (or you can even define your own), let's look at the `activation` documentation and see what's available:\n",
        "\n",
        "- **Question** look at the [documentation](https://keras.io/api/layers/activations/) for `activations`. What basic activation functions are available?\n",
        "- Modify the code below to add a `ReLu` activation to the middle layer (either using the `activation` argument in `Dense()` or by adding an `Activation()` layer)\n",
        "\n"
      ]
    },
    {
      "cell_type": "code",
      "execution_count": null,
      "metadata": {
        "id": "DMiyaUSVAt64",
        "outputId": "a4043d5e-0634-489f-83aa-3b3077eaed25",
        "colab": {
          "base_uri": "https://localhost:8080/"
        }
      },
      "outputs": [
        {
          "output_type": "stream",
          "name": "stdout",
          "text": [
            "Model: \"sequential_2\"\n",
            "_________________________________________________________________\n",
            " Layer (type)                Output Shape              Param #   \n",
            "=================================================================\n",
            " dense_16 (Dense)            (None, 10)                260       \n",
            "                                                                 \n",
            " dense_17 (Dense)            (None, 5)                 55        \n",
            "                                                                 \n",
            " dense_18 (Dense)            (None, 2)                 12        \n",
            "                                                                 \n",
            " dense_19 (Dense)            (None, 1)                 3         \n",
            "                                                                 \n",
            "=================================================================\n",
            "Total params: 330 (1.29 KB)\n",
            "Trainable params: 330 (1.29 KB)\n",
            "Non-trainable params: 0 (0.00 Byte)\n",
            "_________________________________________________________________\n"
          ]
        }
      ],
      "source": [
        "### YOUR CODE HERE ###\n",
        "activated_model = kb.Sequential([\n",
        "    kb.Input(shape = [25]),\n",
        "    kb.layers.Dense(10),\n",
        "    kb.layers.Dense(5), # add relu here\n",
        "    kb.layers.Dense(2),\n",
        "    kb.layers.Dense(1, activation = \"sigmoid\")\n",
        "])\n",
        "\n",
        "activated_model.summary()"
      ]
    },
    {
      "cell_type": "markdown",
      "metadata": {
        "id": "UHgS7YI8At64"
      },
      "source": [
        "## Try It Out\n",
        "Build a model with the following structure in 3 different ways:\n",
        "\n",
        "- input size of 9\n",
        "- 2 hidden layers (with 7 and 3 nodes respectively) and `relu` activations\n",
        "- output layer with 1 node and a sigmoid activation\n",
        "\n",
        "1. Build the model using a basic `Sequential()` object and using `.add()` to add each layer. Set the activation(s) using an `Activation()` layer.\n",
        "2. Build the model using the Functional API method with `Model()`. Set the activation(s) using the `activation` argument in each layer where necessary.\n",
        "3. Build the model by subclassing `Model()`. Build all your layers in the `__init__()` method, and define a forward pass using your `call()` method. Then use the class to build your model. Set the activation(s) using the `activation` argument in each layer where necessary."
      ]
    },
    {
      "cell_type": "code",
      "execution_count": null,
      "metadata": {
        "id": "rh9htRyrAt64"
      },
      "outputs": [],
      "source": [
        "# 1. `Sequential()`\n",
        "\n",
        "my_model1 = kb.Sequential()"
      ]
    },
    {
      "cell_type": "code",
      "execution_count": null,
      "metadata": {
        "id": "ZQx9sPFFAt64",
        "colab": {
          "base_uri": "https://localhost:8080/",
          "height": 111
        },
        "outputId": "2c9723b3-edf3-4ba3-bb2d-a8cbc4e28c55"
      },
      "outputs": [
        {
          "output_type": "error",
          "ename": "SyntaxError",
          "evalue": "invalid syntax (<ipython-input-20-16fa721ef4ad>, line 7)",
          "traceback": [
            "\u001b[0;36m  File \u001b[0;32m\"<ipython-input-20-16fa721ef4ad>\"\u001b[0;36m, line \u001b[0;32m7\u001b[0m\n\u001b[0;31m    outputs = ???\u001b[0m\n\u001b[0m              ^\u001b[0m\n\u001b[0;31mSyntaxError\u001b[0m\u001b[0;31m:\u001b[0m invalid syntax\n"
          ]
        }
      ],
      "source": [
        "# 2. Functional API\n",
        "\n",
        "inputs = kb.Input()\n",
        "\n",
        "# stuff\n",
        "\n",
        "outputs = ???\n",
        "\n",
        "my_model2 = kb.Model(inputs = inputs, outputs = outputs)\n"
      ]
    },
    {
      "cell_type": "code",
      "execution_count": null,
      "metadata": {
        "id": "svqUIPwbAt65"
      },
      "outputs": [],
      "source": [
        "# 3. Subclass\n",
        "\n",
        "class MyModel(kb.Model):\n",
        "    def __init__(self):\n",
        "        super().__init__()\n",
        "\n",
        "        # layers\n",
        "        pass\n",
        "\n",
        "    def call(self, inputs):\n",
        "        pass"
      ]
    },
    {
      "cell_type": "markdown",
      "metadata": {
        "id": "-9CYm3n0At65"
      },
      "source": [
        "## Functions\n",
        "\n",
        "We've already used all these functions, but as a quick refresher:\n",
        "\n",
        "- `.summary()`: call it on a model to see the structure of the model as well as information about they layers\n",
        "- `.compile()`: tells python *how* to train your model, e.g. which optimizer to use, which metrics to collect, what your test/validation set is.\n",
        "- `.fit()`: train your model given the data (input and output), number of `epochs`, etc (just like sklearn but with more options)\n",
        "- `.predict()`: use your model to make predictions given some input values (just like sklearn)\n",
        "\n",
        "\n",
        "\n",
        "If you have time, download [this data set](https://www.kaggle.com/datasets/chaunguynnghunh/sepsis?select=Paitients_Files_Train.csv) and train one or all of the models you built on it (Don't include `ID` as a predictor). Don't forget to z-score and to use [`LabelBinarizer()`](https://scikit-learn.org/stable/modules/generated/sklearn.preprocessing.LabelBinarizer.html) to change the outputs to 0's and 1's. Use whatever optimizer you want."
      ]
    }
  ],
  "metadata": {
    "kernelspec": {
      "display_name": "Python 3",
      "language": "python",
      "name": "python3"
    },
    "language_info": {
      "codemirror_mode": {
        "name": "ipython",
        "version": 3
      },
      "file_extension": ".py",
      "mimetype": "text/x-python",
      "name": "python",
      "nbconvert_exporter": "python",
      "pygments_lexer": "ipython3",
      "version": "3.8.1"
    },
    "orig_nbformat": 4,
    "vscode": {
      "interpreter": {
        "hash": "aee8b7b246df8f9039afb4144a1f6fd8d2ca17a180786b69acc140d282b71a49"
      }
    },
    "colab": {
      "provenance": []
    }
  },
  "nbformat": 4,
  "nbformat_minor": 0
}