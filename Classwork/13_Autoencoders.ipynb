{
  "cells": [
    {
      "cell_type": "code",
      "execution_count": 7,
      "metadata": {
        "id": "AXhZw6bZJivW"
      },
      "outputs": [],
      "source": [
        "import warnings\n",
        "warnings.filterwarnings('ignore')\n",
        "\n",
        "import numpy as np\n",
        "import pandas as pd\n",
        "\n",
        "\n",
        "from keras.datasets import mnist, fashion_mnist\n",
        "import tensorflow.keras as kb\n",
        "from tensorflow.keras import backend\n",
        "import tensorflow as tf\n",
        "from sklearn.preprocessing import LabelBinarizer\n",
        "from sklearn.model_selection import train_test_split\n",
        "\n",
        "import matplotlib.pyplot as plt\n"
      ]
    },
    {
      "cell_type": "markdown",
      "metadata": {
        "id": "Dca3PS0wJivY"
      },
      "source": [
        "# Autoencoders\n",
        "\n",
        "Autoencoders are our first experience with *Unsupervised* Neural Networks. The goal of an Autoencoder is to learn how to compress the data with the **encoder** portion of the network, and then uncompress it with the **decoder** portion.\n",
        "\n",
        "In order to enforce this compression we typically either:\n",
        "\n",
        "- have a hidden layer with **low dimensionality** (very few nodes)\n",
        "OR\n",
        "- enforce **sparcity** (many nodes are 0) in the hidden layer\n",
        "\n",
        "## Denoising as Regularization\n",
        "In addition to the two types of penalties we talked about (penalties on the hidden layer and penalties on the derivative) which both help regularize our Autoencoders, we also talked about **Denoising Autoencoders**. DAE's add a little bit of noise (i.e. adding small random values to our input) to our data but *still ask the model to return the original input*. Adding a little bit of noise to the input forces the AE to learn that small changes (noise) to the input should not drastically change what the output should be.\n",
        "\n",
        "\n",
        "## Autoencoders as Non-Linear Principal Component Analysis\n",
        "We often say that autoencoders do non-linear PCA, because like PCA, autoencoders learn to represent *most* of the information in the data using a smaller set of variables. However unlike PCA, the \"components\" or compressed representation of the data doesn't have to be a *linear combination* of the input variables. We can add non-linear activation funcitons, or have a *deep* encoder which allows more complex combinations of the input variables.\n",
        "\n",
        "<img src=\"https://drive.google.com/uc?export=view&id=1q670OFb8hLd6FhGcBmJcqwfcmw5uz9Ag\" alt=\"Q\" width = \"200px\"/>\n",
        "\n",
        "## Convolutional Autoencoders\n",
        "And the encoder and decoder don't have to be just Dense, Feed Forward layers. We can also use Convolutional and Pooling layers in order to make Convolutional Autoencoders which can compress images.\n",
        "\n",
        "<img src=\"https://drive.google.com/uc?export=view&id=1aJ2MXRfHqMt07Z4ukICUkRqc2t9Dr8y9\" alt=\"Q\" width = \"400px\" />\n"
      ]
    },
    {
      "cell_type": "markdown",
      "metadata": {
        "id": "QQ7CkoxfJiva"
      },
      "source": [
        "## Building a FF Autoencoder in Keras\n",
        "We can theoretically build an autoencoder using a simple stack of layers (e.g. through `Sequential`), however, we're often interested in using the encoder and decoder *separately* once the model is trained, so we'll often use the Functional API to build our Autoencoders so that we can separate them."
      ]
    },
    {
      "cell_type": "code",
      "execution_count": 2,
      "metadata": {
        "id": "dJ8p0W_fJiva"
      },
      "outputs": [],
      "source": [
        "inshape = 30\n",
        "encoding_dim = 5\n",
        "\n",
        "input_data = kb.Input(shape = (inshape,), name = \"ae_input\")\n",
        "encoded = kb.layers.Dense(encoding_dim, name = \"encoding\")(input_data)\n",
        "decoded = kb.layers.Dense(inshape, name = \"decoding\")(encoded)\n",
        "\n",
        "# AE\n",
        "autoencoder = kb.Model(inputs = input_data,\n",
        "                       outputs = decoded)\n",
        "\n",
        "# encoder\n",
        "encoder = kb.Model(inputs = input_data,\n",
        "                   outputs = encoded)\n",
        "\n",
        "\n",
        "# decoder\n",
        "encoded_input = kb.Input(shape=(encoding_dim,))\n",
        "decoder_layer = autoencoder.layers[-1]\n",
        "decoder = kb.Model(inputs = encoded_input,\n",
        "                   outputs = decoder_layer(encoded_input))"
      ]
    },
    {
      "cell_type": "code",
      "execution_count": null,
      "metadata": {
        "id": "FwTxJvqEJivb",
        "outputId": "c2a2f083-7738-44e3-d682-b581dc3ed706"
      },
      "outputs": [
        {
          "name": "stdout",
          "output_type": "stream",
          "text": [
            "Model: \"model\"\n",
            "_________________________________________________________________\n",
            " Layer (type)                Output Shape              Param #   \n",
            "=================================================================\n",
            " ae_input (InputLayer)       [(None, 30)]              0         \n",
            "                                                                 \n",
            " encoding (Dense)            (None, 5)                 155       \n",
            "                                                                 \n",
            " decoding (Dense)            (None, 30)                180       \n",
            "                                                                 \n",
            "=================================================================\n",
            "Total params: 335\n",
            "Trainable params: 335\n",
            "Non-trainable params: 0\n",
            "_________________________________________________________________\n"
          ]
        }
      ],
      "source": [
        "autoencoder.summary()"
      ]
    },
    {
      "cell_type": "code",
      "execution_count": 3,
      "metadata": {
        "colab": {
          "base_uri": "https://localhost:8080/"
        },
        "id": "bFxPk50wJivc",
        "outputId": "9dd74d35-d6d2-4ff4-a6e6-08ef4a876fce"
      },
      "outputs": [
        {
          "output_type": "stream",
          "name": "stdout",
          "text": [
            "Model: \"model_1\"\n",
            "_________________________________________________________________\n",
            " Layer (type)                Output Shape              Param #   \n",
            "=================================================================\n",
            " ae_input (InputLayer)       [(None, 30)]              0         \n",
            "                                                                 \n",
            " encoding (Dense)            (None, 5)                 155       \n",
            "                                                                 \n",
            "=================================================================\n",
            "Total params: 155 (620.00 Byte)\n",
            "Trainable params: 155 (620.00 Byte)\n",
            "Non-trainable params: 0 (0.00 Byte)\n",
            "_________________________________________________________________\n"
          ]
        }
      ],
      "source": [
        "encoder.summary()"
      ]
    },
    {
      "cell_type": "code",
      "execution_count": 4,
      "metadata": {
        "colab": {
          "base_uri": "https://localhost:8080/"
        },
        "id": "dHNF6UFUJivc",
        "outputId": "7f00a045-a90e-4632-bf52-e1c289a8e849"
      },
      "outputs": [
        {
          "output_type": "stream",
          "name": "stdout",
          "text": [
            "Model: \"model_2\"\n",
            "_________________________________________________________________\n",
            " Layer (type)                Output Shape              Param #   \n",
            "=================================================================\n",
            " input_1 (InputLayer)        [(None, 5)]               0         \n",
            "                                                                 \n",
            " decoding (Dense)            (None, 30)                180       \n",
            "                                                                 \n",
            "=================================================================\n",
            "Total params: 180 (720.00 Byte)\n",
            "Trainable params: 180 (720.00 Byte)\n",
            "Non-trainable params: 0 (0.00 Byte)\n",
            "_________________________________________________________________\n"
          ]
        }
      ],
      "source": [
        "decoder.summary()"
      ]
    },
    {
      "cell_type": "markdown",
      "metadata": {
        "id": "D7v1S_SkJivd"
      },
      "source": [
        "### Loading in Data\n",
        "\n",
        "Loading in Data to use in Tensorflow can be a little tricky when it's not data that comes pre-loaded with tf.\n",
        "\n",
        "First we're going to load in a Breast Cancer dataset using pandas, and select the columns that we want to put into our autoencoder (all the different features of the breast cancer biopsy).\n",
        "\n",
        "Then we convert it to a tensor...because that's what **tensor**flow expects as input."
      ]
    },
    {
      "cell_type": "code",
      "execution_count": 5,
      "metadata": {
        "id": "PDL1Pc_KJivd"
      },
      "outputs": [],
      "source": [
        "# load in data\n",
        "bc = pd.read_csv(\"https://raw.githubusercontent.com/cmparlettpelleriti/CPSC392ParlettPelleriti/master/Data/BreastCancer.csv\")\n",
        "\n",
        "# grab necessary columns\n",
        "feat = ['radius_mean', 'texture_mean', 'perimeter_mean',\n",
        "       'area_mean', 'smoothness_mean', 'compactness_mean', 'concavity_mean',\n",
        "       'concave points_mean', 'symmetry_mean', 'fractal_dimension_mean',\n",
        "       'radius_se', 'texture_se', 'perimeter_se', 'area_se', 'smoothness_se',\n",
        "       'compactness_se', 'concavity_se', 'concave points_se', 'symmetry_se',\n",
        "       'fractal_dimension_se', 'radius_worst', 'texture_worst',\n",
        "       'perimeter_worst', 'area_worst', 'smoothness_worst',\n",
        "       'compactness_worst', 'concavity_worst', 'concave points_worst',\n",
        "       'symmetry_worst', 'fractal_dimension_worst']\n",
        "bc_compress = bc[feat]\n",
        "\n",
        "# # convert to tensorflow data\n",
        "# bc_compress_tf = tf.convert_to_tensor(bc_compress)"
      ]
    },
    {
      "cell_type": "markdown",
      "metadata": {
        "id": "CvHtr3qoJive"
      },
      "source": [
        "Next, we'll do a train/test split.\n",
        "\n",
        "We can either use `sklearn`'s `train_test_split()` or we can do it through tensorflow. Both are shown below.\n",
        "\n",
        "### Tensorflow TTS\n",
        "First we calculate how many data points go in train, and how many go in test.\n",
        "\n",
        "Then we use tensorflow's `split()` function to do the train test split. We need to shuffle our data using `tf.random.shuffle()` first, otherwise it will split our data so that the first rows are in the train and the last rows are in test (this is like setting the `shuffle = True` argument in a `train_test_split()` or `KFold()` in `sklearn`)"
      ]
    },
    {
      "cell_type": "code",
      "execution_count": 8,
      "metadata": {
        "id": "0_l2TaBWJivf"
      },
      "outputs": [],
      "source": [
        "# TTS\n",
        "\n",
        "# # calculate the number of data points in each set\n",
        "# test_prop = bc_compress_tf.shape[0]//5\n",
        "# train_prop = bc_compress_tf.shape[0] - test_prop\n",
        "\n",
        "# # split\n",
        "# X_train, X_test = tf.split(tf.random.shuffle(bc_compress_tf), #shuffle before splitting\n",
        "#                            [train_prop, test_prop], # number of data points in each set\n",
        "#                            0) # split the rows, not columns\n",
        "\n",
        "# print(X_train.shape, X_test.shape)\n",
        "\n",
        "X = bc_compress\n",
        "y = bc[\"diagnosis\"]\n",
        "\n",
        "lb = LabelBinarizer()\n",
        "y = lb.fit_transform(y)\n",
        "\n",
        "X_train, X_test, y_train, y_test = train_test_split(X,y, )"
      ]
    },
    {
      "cell_type": "code",
      "execution_count": 12,
      "metadata": {
        "colab": {
          "base_uri": "https://localhost:8080/"
        },
        "id": "MqCusUWvJivf",
        "outputId": "55568f79-32d1-4b65-bcc4-7554204bb5ae"
      },
      "outputs": [
        {
          "output_type": "execute_result",
          "data": {
            "text/plain": [
              "<keras.src.callbacks.History at 0x7bc6c1ccb1c0>"
            ]
          },
          "metadata": {},
          "execution_count": 12
        }
      ],
      "source": [
        "# compile and train\n",
        "\n",
        "autoencoder.compile(loss = \"mean_squared_error\", optimizer = \"adam\")\n",
        "history = autoencoder.fit(X_train, X_train,\n",
        "                epochs = 500,\n",
        "                validation_data = (X_test, X_test),\n",
        "                verbose = 0)"
      ]
    },
    {
      "cell_type": "markdown",
      "metadata": {
        "id": "M6C2cXP2Jivg"
      },
      "source": [
        "Yay! We trained an autoencoder to compress our breast cancer data.\n",
        "\n",
        "We now have a few options of what to do with it. One option is to use the `encoder` to compress all our our data and then feed that data through a predictive model."
      ]
    },
    {
      "cell_type": "code",
      "execution_count": 14,
      "metadata": {
        "id": "f0u75Eu5Jivg"
      },
      "outputs": [],
      "source": [
        "x_train_compressed = encoder(tf.convert_to_tensor(X_train))\n",
        "x_test_compressed = encoder(tf.convert_to_tensor(X_test))"
      ]
    },
    {
      "cell_type": "code",
      "execution_count": 18,
      "metadata": {
        "colab": {
          "base_uri": "https://localhost:8080/"
        },
        "id": "GTvb7NIaJivg",
        "outputId": "0bb5bb1e-3e5d-4c9b-b027-83885c83bf25"
      },
      "outputs": [
        {
          "output_type": "stream",
          "name": "stdout",
          "text": [
            "14/14 [==============================] - 0s 2ms/step - loss: 0.6450 - accuracy: 0.6385\n",
            "5/5 [==============================] - 0s 3ms/step - loss: 0.6772 - accuracy: 0.5944\n"
          ]
        },
        {
          "output_type": "execute_result",
          "data": {
            "text/plain": [
              "[0.6772341132164001, 0.5944055914878845]"
            ]
          },
          "metadata": {},
          "execution_count": 18
        }
      ],
      "source": [
        "model = kb.Sequential([\n",
        "    kb.layers.Dense(5, input_shape = (5,), activation = \"relu\"),\n",
        "    kb.layers.Dense(3, activation = \"relu\"),\n",
        "    kb.layers.Dense(2, activation = \"relu\"),\n",
        "    kb.layers.Dense(1, activation = \"sigmoid\")\n",
        "])\n",
        "\n",
        "model.compile(loss = \"binary_crossentropy\", optimizer = \"sgd\", metrics = [\"accuracy\"])\n",
        "history = model.fit(x_train_compressed, y_train,\n",
        "          epochs = 100,\n",
        "          validation_data = (x_test_compressed, y_test),\n",
        "          verbose = 0)\n",
        "model.evaluate(x_train_compressed, y_train)\n",
        "model.evaluate(x_test_compressed, y_test)"
      ]
    },
    {
      "cell_type": "code",
      "execution_count": 19,
      "metadata": {
        "colab": {
          "base_uri": "https://localhost:8080/"
        },
        "id": "iCmnTUWmJivg",
        "outputId": "da2060ac-ee38-454b-cd10-d5b702759e47"
      },
      "outputs": [
        {
          "output_type": "stream",
          "name": "stdout",
          "text": [
            "Model: \"sequential_2\"\n",
            "_________________________________________________________________\n",
            " Layer (type)                Output Shape              Param #   \n",
            "=================================================================\n",
            " dense_8 (Dense)             (None, 5)                 30        \n",
            "                                                                 \n",
            " dense_9 (Dense)             (None, 3)                 18        \n",
            "                                                                 \n",
            " dense_10 (Dense)            (None, 2)                 8         \n",
            "                                                                 \n",
            " dense_11 (Dense)            (None, 1)                 3         \n",
            "                                                                 \n",
            "=================================================================\n",
            "Total params: 59 (236.00 Byte)\n",
            "Trainable params: 59 (236.00 Byte)\n",
            "Non-trainable params: 0 (0.00 Byte)\n",
            "_________________________________________________________________\n"
          ]
        }
      ],
      "source": [
        "model.summary()"
      ]
    },
    {
      "cell_type": "markdown",
      "metadata": {
        "id": "t3gx8OMBJivh"
      },
      "source": [
        "Another option we have is to add the encoder as a **non-trainable** layer to our neural network. This way the NN will take in raw data, the encoder will compress it, and then pass it along to the next layer of the network."
      ]
    },
    {
      "cell_type": "code",
      "execution_count": 24,
      "metadata": {
        "id": "M-cGqfdHJivi"
      },
      "outputs": [],
      "source": [
        "# tell our model NOT to change the encoder\n",
        "encoder.trainable = False\n",
        "\n",
        "input = kb.Input(shape = (30,))\n",
        "x = encoder(input)\n",
        "x = kb.layers.Dense(5, input_shape = (5,), activation = \"relu\", name = \"5Dense\")(x)\n",
        "x = kb.layers.Dense(3, activation = \"relu\", name = \"3Dense\")(x)\n",
        "x = kb.layers.Dense(2, activation = \"relu\", name = \"2Dense\")(x)\n",
        "output = kb.layers.Dense(1, activation = \"sigmoid\")(x)\n",
        "\n",
        "\n",
        "model_encoded = kb.Model(inputs = input,\n",
        "                         outputs = output)"
      ]
    },
    {
      "cell_type": "code",
      "execution_count": 25,
      "metadata": {
        "colab": {
          "base_uri": "https://localhost:8080/"
        },
        "id": "evBinDGkJivi",
        "outputId": "6b284c4a-476e-4441-871a-ab22656ddacb"
      },
      "outputs": [
        {
          "output_type": "stream",
          "name": "stdout",
          "text": [
            "Model: \"model_4\"\n",
            "_________________________________________________________________\n",
            " Layer (type)                Output Shape              Param #   \n",
            "=================================================================\n",
            " input_3 (InputLayer)        [(None, 30)]              0         \n",
            "                                                                 \n",
            " model_1 (Functional)        (None, 5)                 155       \n",
            "                                                                 \n",
            " 5Dense (Dense)              (None, 5)                 30        \n",
            "                                                                 \n",
            " 3Dense (Dense)              (None, 3)                 18        \n",
            "                                                                 \n",
            " 2Dense (Dense)              (None, 2)                 8         \n",
            "                                                                 \n",
            " dense_13 (Dense)            (None, 1)                 3         \n",
            "                                                                 \n",
            "=================================================================\n",
            "Total params: 214 (856.00 Byte)\n",
            "Trainable params: 59 (236.00 Byte)\n",
            "Non-trainable params: 155 (620.00 Byte)\n",
            "_________________________________________________________________\n"
          ]
        }
      ],
      "source": [
        "model_encoded.summary()"
      ]
    },
    {
      "cell_type": "code",
      "execution_count": 27,
      "metadata": {
        "colab": {
          "base_uri": "https://localhost:8080/"
        },
        "id": "sjK9s9chJivi",
        "outputId": "a8ea336c-d375-45e3-ab10-2c6a523e3155"
      },
      "outputs": [
        {
          "output_type": "stream",
          "name": "stdout",
          "text": [
            "14/14 [==============================] - 0s 2ms/step - loss: 0.6543 - accuracy: 0.6385\n",
            "5/5 [==============================] - 0s 3ms/step - loss: 0.6793 - accuracy: 0.5944\n"
          ]
        },
        {
          "output_type": "execute_result",
          "data": {
            "text/plain": [
              "[0.6792569160461426, 0.5944055914878845]"
            ]
          },
          "metadata": {},
          "execution_count": 27
        }
      ],
      "source": [
        "model_encoded.compile(loss = \"binary_crossentropy\",\n",
        "                      optimizer = \"sgd\",\n",
        "                      metrics = [\"accuracy\"])\n",
        "model_encoded.fit(X_train, y_train,\n",
        "          epochs = 200,\n",
        "          validation_data = (X_test, y_test),\n",
        "                  verbose = 0)\n",
        "\n",
        "model_encoded.evaluate(X_train, y_train)\n",
        "model_encoded.evaluate(X_test, y_test)"
      ]
    },
    {
      "cell_type": "markdown",
      "metadata": {
        "id": "-lrMgP9qJivj"
      },
      "source": [
        "Voila! We basically built the same neural nework, except this one does the pre-processing for us using the pre-trained encoder layer from our autoencoder."
      ]
    },
    {
      "cell_type": "markdown",
      "metadata": {
        "id": "J25Qi94PJivj"
      },
      "source": [
        "## Denoising Convolutional AE\n",
        "\n",
        "Now let's build a de-noising autoencoder. First, we load in our data and add a little bit of noise."
      ]
    },
    {
      "cell_type": "code",
      "execution_count": 28,
      "metadata": {
        "colab": {
          "base_uri": "https://localhost:8080/"
        },
        "id": "Qk1WWA7TJivj",
        "outputId": "a4b92e7b-3240-41a0-b9f1-26caeb5cc0cb"
      },
      "outputs": [
        {
          "output_type": "stream",
          "name": "stdout",
          "text": [
            "Downloading data from https://storage.googleapis.com/tensorflow/tf-keras-datasets/mnist.npz\n",
            "11490434/11490434 [==============================] - 0s 0us/step\n"
          ]
        }
      ],
      "source": [
        "# load data from keras\n",
        "(x_train, y_train), (x_test, y_test) = mnist.load_data()\n",
        "\n",
        "# rescale and reshape data\n",
        "x_train = x_train.astype('float32') / 255.\n",
        "x_test = x_test.astype('float32') / 255.\n",
        "x_train = np.reshape(x_train, (len(x_train), 28, 28, 1))\n",
        "x_test = np.reshape(x_test, (len(x_test), 28, 28, 1))\n",
        "\n",
        "# add noise\n",
        "noise_factor = 0.5\n",
        "x_train_noisy = x_train + noise_factor * np.random.normal(loc=0.0, scale=1.0, size=x_train.shape)\n",
        "x_test_noisy = x_test + noise_factor * np.random.normal(loc=0.0, scale=1.0, size=x_test.shape)\n",
        "\n",
        "# make sure noise doesnt give us an invalid value outside [0,1]\n",
        "x_train_noisy = np.clip(x_train_noisy, 0., 1.)\n",
        "x_test_noisy = np.clip(x_test_noisy, 0., 1.)"
      ]
    },
    {
      "cell_type": "markdown",
      "metadata": {
        "id": "nE_fqjb8Jivj"
      },
      "source": [
        "let's plot some of the noisy and non-noisy data!"
      ]
    },
    {
      "cell_type": "code",
      "execution_count": 29,
      "metadata": {
        "colab": {
          "base_uri": "https://localhost:8080/",
          "height": 131
        },
        "id": "HWfTiV4DJivj",
        "outputId": "5b073ff0-e94d-4fde-a2a3-3980139d789e"
      },
      "outputs": [
        {
          "output_type": "display_data",
          "data": {
            "text/plain": [
              "<Figure size 2000x200 with 10 Axes>"
            ],
            "image/png": "[encoded data removed]"
          },
          "metadata": {}
        }
      ],
      "source": [
        "n = 10\n",
        "plt.figure(figsize=(20, 2))\n",
        "for i in range(1, n + 1):\n",
        "    ax = plt.subplot(1, n, i)\n",
        "    plt.imshow(x_test_noisy[i].reshape(28, 28))\n",
        "    plt.gray()\n",
        "    ax.get_xaxis().set_visible(False)\n",
        "    ax.get_yaxis().set_visible(False)\n",
        "plt.show()"
      ]
    },
    {
      "cell_type": "code",
      "execution_count": 30,
      "metadata": {
        "colab": {
          "base_uri": "https://localhost:8080/",
          "height": 131
        },
        "id": "i9TlgRb5Jivk",
        "outputId": "bd854198-738a-48b7-edb5-8413c8cfad33"
      },
      "outputs": [
        {
          "output_type": "display_data",
          "data": {
            "text/plain": [
              "<Figure size 2000x200 with 10 Axes>"
            ],
            "image/png": "[encoded data removed]"
          },
          "metadata": {}
        }
      ],
      "source": [
        "n = 10\n",
        "plt.figure(figsize=(20, 2))\n",
        "for i in range(1, n + 1):\n",
        "    ax = plt.subplot(1, n, i)\n",
        "    plt.imshow(x_test[i].reshape(28, 28))\n",
        "    plt.gray()\n",
        "    ax.get_xaxis().set_visible(False)\n",
        "    ax.get_yaxis().set_visible(False)\n",
        "plt.show()"
      ]
    },
    {
      "cell_type": "markdown",
      "metadata": {
        "id": "wfeGgAilJivk"
      },
      "source": [
        "#### Building the DAE\n",
        "Now we need to build our model. Remember, the goal of the encoding portion of the model is to compress our image (meaning we want it's output to be SMALLER than the image).\n",
        "\n",
        "Then we need to create some layers that learn to de-compress the image. We can use any combination of `UpSampling2D()` layers (the opposite of `MaxPooling2D()`), `Conv2D()` layers, or `Conv2DTranspose()` layers (the opposite of `Conv2D()`). What we want to keep in mind is that our **input** needs to be the same dimensions as our **output**.\n",
        "\n",
        "For this example (from Keras), you're going to use `UpSampling2D()` to upscale your compressed image, and a `Conv2D()` layer at the end to get our image back to 1 channel (rather than 32)."
      ]
    },
    {
      "cell_type": "code",
      "execution_count": 31,
      "metadata": {
        "colab": {
          "base_uri": "https://localhost:8080/"
        },
        "id": "LoMQbwJWJivk",
        "outputId": "552687b9-e375-47c2-d60f-67a90489ef09"
      },
      "outputs": [
        {
          "output_type": "stream",
          "name": "stdout",
          "text": [
            "1875/1875 [==============================] - 148s 78ms/step - loss: 0.1252 - val_loss: 0.1043\n"
          ]
        },
        {
          "output_type": "execute_result",
          "data": {
            "text/plain": [
              "<keras.src.callbacks.History at 0x7bc6bf801090>"
            ]
          },
          "metadata": {},
          "execution_count": 31
        }
      ],
      "source": [
        "# set input to be a 28x28 image\n",
        "input_img = kb.Input(shape=(28, 28, 1))\n",
        "\n",
        "# encoding\n",
        "x = kb.layers.Conv2D(32, (3, 3), activation='relu', padding='same')(input_img)\n",
        "x = kb.layers.MaxPooling2D((2, 2), padding='same')(x)\n",
        "x = kb.layers.Conv2D(32, (3, 3), activation='relu', padding='same')(x)\n",
        "encoded = kb.layers.MaxPooling2D((2, 2), padding='same')(x)\n",
        "\n",
        "# At this point the representation is (7, 7, 32)\n",
        "\n",
        "# decoding\n",
        "x = kb.layers.Conv2D(32, (3, 3), activation='relu', padding='same')(encoded)\n",
        "x = kb.layers.UpSampling2D((2, 2))(x)\n",
        "x = kb.layers.Conv2D(32, (3, 3), activation='relu', padding='same')(x)\n",
        "x = kb.layers.UpSampling2D((2, 2))(x)\n",
        "decoded = kb.layers.Conv2D(1, (3, 3), activation='sigmoid', padding='same')(x)\n",
        "\n",
        "autoencoder = kb.Model(input_img, decoded)\n",
        "autoencoder.compile(optimizer='adam', loss='binary_crossentropy')\n",
        "autoencoder.fit(x_train_noisy, x_train,\n",
        "                epochs=1,\n",
        "                validation_data=(x_test_noisy, x_test))"
      ]
    },
    {
      "cell_type": "code",
      "execution_count": 32,
      "metadata": {
        "colab": {
          "base_uri": "https://localhost:8080/"
        },
        "id": "Cd2di841Jivk",
        "outputId": "cce9b1be-5922-423a-c6fd-04b101a34902"
      },
      "outputs": [
        {
          "output_type": "stream",
          "name": "stdout",
          "text": [
            "Model: \"model_5\"\n",
            "_________________________________________________________________\n",
            " Layer (type)                Output Shape              Param #   \n",
            "=================================================================\n",
            " input_4 (InputLayer)        [(None, 28, 28, 1)]       0         \n",
            "                                                                 \n",
            " conv2d (Conv2D)             (None, 28, 28, 32)        320       \n",
            "                                                                 \n",
            " max_pooling2d (MaxPooling2  (None, 14, 14, 32)        0         \n",
            " D)                                                              \n",
            "                                                                 \n",
            " conv2d_1 (Conv2D)           (None, 14, 14, 32)        9248      \n",
            "                                                                 \n",
            " max_pooling2d_1 (MaxPoolin  (None, 7, 7, 32)          0         \n",
            " g2D)                                                            \n",
            "                                                                 \n",
            " conv2d_2 (Conv2D)           (None, 7, 7, 32)          9248      \n",
            "                                                                 \n",
            " up_sampling2d (UpSampling2  (None, 14, 14, 32)        0         \n",
            " D)                                                              \n",
            "                                                                 \n",
            " conv2d_3 (Conv2D)           (None, 14, 14, 32)        9248      \n",
            "                                                                 \n",
            " up_sampling2d_1 (UpSamplin  (None, 28, 28, 32)        0         \n",
            " g2D)                                                            \n",
            "                                                                 \n",
            " conv2d_4 (Conv2D)           (None, 28, 28, 1)         289       \n",
            "                                                                 \n",
            "=================================================================\n",
            "Total params: 28353 (110.75 KB)\n",
            "Trainable params: 28353 (110.75 KB)\n",
            "Non-trainable params: 0 (0.00 Byte)\n",
            "_________________________________________________________________\n"
          ]
        }
      ],
      "source": [
        "autoencoder.summary()"
      ]
    },
    {
      "cell_type": "code",
      "execution_count": 33,
      "metadata": {
        "id": "3CqLh3lgJivk"
      },
      "outputs": [],
      "source": [
        "# We're not going to use this today, but we COULD if we wanted...\n",
        "# create encoder model\n",
        "encoder_conv = kb.Model(inputs = autoencoder.input,\n",
        "                        outputs = encoded)\n",
        "\n",
        "# get compressed image\n",
        "x_example = encoder_conv(x_train_noisy[0])"
      ]
    },
    {
      "cell_type": "markdown",
      "metadata": {
        "id": "kanxDpUNJivk"
      },
      "source": [
        "#### Plot DAE\n",
        "Now that we've trained the denoising autoencoder, let's see how it does on a few samples."
      ]
    },
    {
      "cell_type": "code",
      "execution_count": 34,
      "metadata": {
        "colab": {
          "base_uri": "https://localhost:8080/"
        },
        "id": "jPOC80SnJivk",
        "outputId": "270aabdb-bc6c-4cb0-dfc8-b8b5b63b0f82"
      },
      "outputs": [
        {
          "output_type": "stream",
          "name": "stdout",
          "text": [
            "1875/1875 [==============================] - 34s 18ms/step\n"
          ]
        }
      ],
      "source": [
        "# denoise using DAE\n",
        "x_train_pred = autoencoder.predict(x_train_noisy)"
      ]
    },
    {
      "cell_type": "code",
      "execution_count": 35,
      "metadata": {
        "colab": {
          "base_uri": "https://localhost:8080/",
          "height": 131
        },
        "id": "1LTdFzMrJivl",
        "outputId": "4f6c5136-8d02-4954-be85-8ed47d13cdb9"
      },
      "outputs": [
        {
          "output_type": "display_data",
          "data": {
            "text/plain": [
              "<Figure size 2000x200 with 10 Axes>"
            ],
            "image/png": "[encoded data removed]"
          },
          "metadata": {}
        }
      ],
      "source": [
        "# plot denoised images\n",
        "n = 10\n",
        "plt.figure(figsize=(20, 2))\n",
        "for i in range(1, n + 1):\n",
        "    ax = plt.subplot(1, n, i)\n",
        "    plt.imshow(x_train_pred[i].reshape(28, 28))\n",
        "    plt.gray()\n",
        "    ax.get_xaxis().set_visible(False)\n",
        "    ax.get_yaxis().set_visible(False)\n",
        "plt.show()"
      ]
    },
    {
      "cell_type": "code",
      "execution_count": 36,
      "metadata": {
        "colab": {
          "base_uri": "https://localhost:8080/",
          "height": 131
        },
        "id": "rVHuj6uHJivl",
        "outputId": "7b9bafb3-0934-4e80-d5ae-3b0d4417606a"
      },
      "outputs": [
        {
          "output_type": "display_data",
          "data": {
            "text/plain": [
              "<Figure size 2000x200 with 10 Axes>"
            ],
            "image/png": "[encoded data removed]"
          },
          "metadata": {}
        }
      ],
      "source": [
        "# plot true images\n",
        "n = 10\n",
        "plt.figure(figsize=(20, 2))\n",
        "for i in range(1, n + 1):\n",
        "    ax = plt.subplot(1, n, i)\n",
        "    plt.imshow(x_train[i].reshape(28, 28))\n",
        "    plt.gray()\n",
        "    ax.get_xaxis().set_visible(False)\n",
        "    ax.get_yaxis().set_visible(False)\n",
        "plt.show()"
      ]
    },
    {
      "cell_type": "markdown",
      "metadata": {
        "id": "rcgt2kD4Jivl"
      },
      "source": [
        "(Because we did this the simple way and added noise to our dataset, the noise for a given sample will never change. We also could add a `GaussianNoise()` layer to our model in order to change the noise each time, sorta like the data augmentation layers that we used before.)"
      ]
    },
    {
      "cell_type": "code",
      "execution_count": 37,
      "metadata": {
        "colab": {
          "base_uri": "https://localhost:8080/"
        },
        "id": "Qr0ZaXn_Jivl",
        "outputId": "affac061-ca5d-41c4-8299-dfe6cb08c193"
      },
      "outputs": [
        {
          "output_type": "stream",
          "name": "stdout",
          "text": [
            "1875/1875 [==============================] - 143s 76ms/step - loss: 0.1250 - val_loss: 0.1090\n",
            "Model: \"model_7\"\n",
            "_________________________________________________________________\n",
            " Layer (type)                Output Shape              Param #   \n",
            "=================================================================\n",
            " input_5 (InputLayer)        [(None, 28, 28, 1)]       0         \n",
            "                                                                 \n",
            " gaussian_noise (GaussianNo  (None, 28, 28, 1)         0         \n",
            " ise)                                                            \n",
            "                                                                 \n",
            " conv2d_5 (Conv2D)           (None, 28, 28, 32)        320       \n",
            "                                                                 \n",
            " max_pooling2d_2 (MaxPoolin  (None, 14, 14, 32)        0         \n",
            " g2D)                                                            \n",
            "                                                                 \n",
            " conv2d_6 (Conv2D)           (None, 14, 14, 32)        9248      \n",
            "                                                                 \n",
            " max_pooling2d_3 (MaxPoolin  (None, 7, 7, 32)          0         \n",
            " g2D)                                                            \n",
            "                                                                 \n",
            " conv2d_transpose (Conv2DTr  (None, 14, 14, 32)        9248      \n",
            " anspose)                                                        \n",
            "                                                                 \n",
            " conv2d_transpose_1 (Conv2D  (None, 28, 28, 32)        9248      \n",
            " Transpose)                                                      \n",
            "                                                                 \n",
            " conv2d_7 (Conv2D)           (None, 28, 28, 1)         289       \n",
            "                                                                 \n",
            "=================================================================\n",
            "Total params: 28353 (110.75 KB)\n",
            "Trainable params: 28353 (110.75 KB)\n",
            "Non-trainable params: 0 (0.00 Byte)\n",
            "_________________________________________________________________\n"
          ]
        }
      ],
      "source": [
        "# W = 28 # input height/width\n",
        "# K = 3 # kernel size\n",
        "# P = 0 # padding\n",
        "# S = 1 # stride\n",
        "\n",
        "# # output dimensions\n",
        "# ((W - K + P + S)/S)\n",
        "\n",
        "# set input to be a 28x28 image\n",
        "input_img = kb.Input(shape=(28, 28, 1))\n",
        "\n",
        "# encoding\n",
        "#28,28,1 --> 28,28,32 --> 14,14,32 --> 14,14,32 --> 7,7,32\n",
        "x = kb.layers.GaussianNoise(0.5)(input_img)\n",
        "x = kb.layers.Conv2D(32, (3, 3), activation='relu', padding='same')(x)\n",
        "x = kb.layers.MaxPooling2D((2, 2), padding='same')(x)\n",
        "x = kb.layers.Conv2D(32, (3, 3), activation='relu', padding='same')(x)\n",
        "encoded = kb.layers.MaxPooling2D((2, 2), padding='same')(x)\n",
        "\n",
        "# # encoding alternate\n",
        "# #28,28,1 --> 14,14,32 --> 7,7,32\n",
        "# x = kb.layers.GaussianNoise(0.5)(input_img)\n",
        "# x = kb.layers.Conv2D(32, (2, 2), strides = (2,2), activation='relu', padding='valid')(x)\n",
        "# encoded = kb.layers.Conv2D(32, (2, 2), strides = (2,2), activation='relu', padding='valid')(x)\n",
        "\n",
        "\n",
        "# At this point the representation is (7, 7, 32)\n",
        "\n",
        "# # decoding\n",
        "# # 7,7,32 --> 7,7,32 --> 14,14,32 --> 14,14,32 --> 28,28,32 --> 28,28,1\n",
        "# x = kb.layers.Conv2D(32, (3, 3), activation='relu', padding='same')(encoded)\n",
        "# x = kb.layers.UpSampling2D((2, 2))(x)\n",
        "# x = kb.layers.Conv2D(32, (3, 3), activation='relu', padding='same')(x)\n",
        "# x = kb.layers.UpSampling2D((2, 2))(x)\n",
        "# decoded = kb.layers.Conv2D(1, (3, 3), activation='sigmoid', padding='same')(x)\n",
        "\n",
        "# decoding alternate\n",
        "# 7,7,32 -->  14,14,32 --> 28,28,32 --> 28,28,1\n",
        "x = kb.layers.Conv2DTranspose(32, (3, 3), strides=2, activation=\"relu\", padding=\"same\")(encoded)\n",
        "x = kb.layers.Conv2DTranspose(32, (3, 3), strides=2, activation=\"relu\", padding=\"same\")(x)\n",
        "decoded = kb.layers.Conv2D(1, (3, 3), activation=\"sigmoid\", padding=\"same\")(x)\n",
        "\n",
        "# Autoencoder\n",
        "\n",
        "autoencoder = kb.Model(input_img, decoded)\n",
        "autoencoder.compile(optimizer='adam', loss='binary_crossentropy')\n",
        "autoencoder.fit(x_train, x_train,\n",
        "                epochs=1,\n",
        "                validation_data=(x_test_noisy, x_test))\n",
        "\n",
        "autoencoder.summary()"
      ]
    }
  ],
  "metadata": {
    "kernelspec": {
      "display_name": "Python 3",
      "language": "python",
      "name": "python3"
    },
    "language_info": {
      "codemirror_mode": {
        "name": "ipython",
        "version": 3
      },
      "file_extension": ".py",
      "mimetype": "text/x-python",
      "name": "python",
      "nbconvert_exporter": "python",
      "pygments_lexer": "ipython3",
      "version": "3.8.1"
    },
    "orig_nbformat": 4,
    "colab": {
      "provenance": []
    }
  },
  "nbformat": 4,
  "nbformat_minor": 0
}