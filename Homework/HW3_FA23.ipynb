{
 "cells": [
  {
   "attachments": {},
   "cell_type": "markdown",
   "metadata": {},
   "source": [
    "# Homework 3 (Convolutional Neural Networks)\n",
    "\n",
    "Choose a dataset that you're interested in from among these options (or choose your own data set as long as it's large enough and **you check with me** in advance to make sure it'll work):\n",
    "\n",
    "- [Grape Disease Detection Data](https://www.kaggle.com/datasets/rm1000/augmented-grape-disease-detection-dataset)\n",
    "- [Indian Bird Data](https://www.kaggle.com/datasets/arjunbasandrai/25-indian-bird-species-with-226k-images)\n",
    "- [Skin Cancer Classification](https://www.kaggle.com/datasets/kylegraupe/skin-cancer-binary-classification-dataset)\n",
    "- [Large Scale Fish Data](https://www.kaggle.com/datasets/crowww/a-large-scale-fish-dataset)\n",
    "- [Berkeley Segmentation Data](https://www.kaggle.com/datasets/balraj98/berkeley-segmentation-dataset-500-bsds500)\n",
    "- [ASL Alphabet Classification](https://www.kaggle.com/datasets/grassknoted/asl-alphabet)\n",
    "- [Bird Species Classification](https://www.kaggle.com/datasets/gpiosenka/100-bird-species)\n",
    "- [Playing Card Classification](https://www.kaggle.com/datasets/gpiosenka/cards-image-datasetclassification)\n",
    "- [Chest Scan Cancer Classification](https://www.kaggle.com/datasets/mohamedhanyyy/chest-ctscan-images)\n",
    "- [Rice Classification](https://www.kaggle.com/datasets/muratkokludataset/rice-image-dataset)\n",
    "- [Fungi Classification](https://www.kaggle.com/datasets/anshtanwar/microscopic-fungi-images)\n",
    "\n",
    "Then Build your own Deep CONVOLUTIONAL Neural Network (No Recurrent Layers, no Transfer Learning or use of existing models unless approved by Dr. P ahead of time, no Generative Models) using keras/tensorflow (at least 5 Convolutional Layers, and at least 3 Pooling Layers) to do one of the following tasks:\n",
    "\n",
    "- Classify Images (e.g. Hot Dog vs. Not a Hot Dog)\n",
    "- Compress Images (e.g. with a Convolutional AutoEncoder)\n",
    "- Detect/Segment Objects (e.g. what pixels in the image contain a cat?)\n",
    "\n",
    "Make sure that:\n",
    "\n",
    "- your NN has some sort of regularization (or multiple types if needed)\n",
    "- you've properly formatted and inputted your data into the network\n",
    "- your model architechture and loss function are appropriate for the problem\n",
    "- you print out at least 2 metrics for both train and test data to examine\n",
    "- you plot the history of your model\n",
    "\n",
    "\n",
    "Then create a **technical report** discussing your model building process, the results, and your reflection on it. The report should follow the format in the example including an Introduction, Analysis, Methods, Results, and Reflection section."
   ]
  },
  {
   "attachments": {},
   "cell_type": "markdown",
   "metadata": {},
   "source": [
    "# Introduction\n",
    "An introduction should introduce the problem you're working on, give some background and relevant detail for the reader, and explain why it is important. \n",
    "\n",
    "# Analysis \n",
    "Any exploratory analysis of your data, and general summarization of the data (e.g. summary statistics, correlation heatmaps, graphs, information about the data...). This can also include any cleaning and joining you did. \n",
    "\n",
    "# Methods\n",
    "Explain the structure of your model and your approach to building it. This can also include changes you made to your model in the process of building it. Someone should be able to read your methods section and *generally* be able to tell exactly what architechture you used. \n",
    "\n",
    "# Results\n",
    "Detailed discussion of how your model performed, and your discussion of how your model performed.\n",
    "\n",
    "# Reflection\n",
    "Reflections on what you learned/discovered in the process of doing the assignment. Things you would do differently in the future, ways you'll approach similar problems in the future, etc.\n"
   ]
  },
  {
   "attachments": {},
   "cell_type": "markdown",
   "metadata": {},
   "source": [
    "# What to Turn In\n",
    "\n",
    "- PDF of your technical report\n",
    "- your code as a .py, .ipynb, or link to github (you must turn it in either as a file, or a link to something that has timestamps of when the file was last edited)\n",
    "- a README file as a .txt or .md"
   ]
  }
 ],
 "metadata": {
  "language_info": {
   "name": "python"
  },
  "orig_nbformat": 4
 },
 "nbformat": 4,
 "nbformat_minor": 2
}
