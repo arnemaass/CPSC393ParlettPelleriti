{
 "cells": [
  {
   "attachments": {},
   "cell_type": "markdown",
   "metadata": {},
   "source": [
    "# Homework 1 (Support Vector Machines)\n",
    "\n",
    "Using the data [here](https://raw.githubusercontent.com/cmparlettpelleriti/CPSC393ParlettPelleriti/main/Data/hw1.csv), build the models as described below that use all the `X` variables (`X1`, `X2`... `X8`) to predict `Group`. Make sure that data is **z score appropriately**. Due to the number of models you're fitting with GridSearch, this make take a while to run.\n",
    "\n",
    "- A. 💻 Load your data and do a 80/20 Train Test Split\n",
    "- B. 💻 Use sklearn Pipelines to build an SVM model. Use `GridSearchCV` to choose the `kernel` (choose from `linear` and `rbf`), `C` (choose from `[0.001, 0.01, 1, 5, 25, 50]`), and `gamma` (choose from `[0.001,0.01, 0.1, 0.5, 1,2,5]`). Print out the train and test accuracies and ROC/AUCs, and plot the train and test confusion matrices. \n",
    "- C. 💻 Use sklearn Pipelines to build a Logistic Regression on the same data with the same train/test set. Print out the train and test accuracies and ROC/AUCs, and plot the train and test confusion matrices. ([CPSC 392 code](https://github.com/cmparlettpelleriti/CPSC393ParlettPelleriti/blob/main/Extras/392OldResources/Logistic_Regression_II--Class9.ipynb))\n",
    "- D. 💻 Use sklearn Pipelines to build a KNearest Neighbors model on the same data with the same train/test set (use GridSearch to choose `n_neighbors`).Print out the train and test accuracies and ROC/AUCs, and plot the train and test confusion matrices.   ([CPSC 392 code](https://github.com/cmparlettpelleriti/CPSC393ParlettPelleriti/blob/main/Extras/392OldResources/KNN--Class%2014.ipynb))\n"
   ]
  },
  {
   "cell_type": "markdown",
   "metadata": {},
   "source": [
    "# Technical Report Sections\n",
    "\n",
    "## Analysis \n",
    "Any exploratory analysis of your data, and general summarization of the data (e.g. summary statistics, correlation heatmaps, graphs, information about the data...). Tell the reader about the types of variables you have and some general information about them, Plots and/or Tables are always great. This should also include any cleaning and joining you did. \n",
    "\n",
    "If you want a table you can make one with [this website](https://www.tablesgenerator.com/markdown_tables) and paste the markdown table here. For example:\n",
    "\n",
    "## Methods\n",
    "Explain the structure of your models. **Including what hyperparemeter tuning you did, and the hyperparameters chosen. Also discuss what these hyperparameters control about the model**.  Someone should be able to read your methods section and *generally* be able to tell exactly what model you used. However REMEMBER that this should be geared towards an audience who might not understand sklearn code. \n",
    "\n",
    "## Results\n",
    "Discuss in detail how your models performed based on the metrics you printed. Write this discussion as if you are presenting your results to a CEO/Stakeholder. Compare the performance of your SVM model to the Logistic Regression and KNN model, and provide a justification for which model you want to use \"in production\".\n",
    "\n",
    "## Reflection\n",
    "Reflections on what you learned/discovered in the process of doing the assignment. Write about any struggles you had (and hopefully overcame) during the process. Things you would do differently in the future, ways you'll approach similar problems in the future, etc.\n",
    "\n"
   ]
  },
  {
   "cell_type": "markdown",
   "metadata": {},
   "source": [
    "# What to Turn In\n",
    "\n",
    "- PDF of your technical report (rendered through Quarto)\n",
    "- your code as a .py, .ipynb, or link to github (you must turn it in either as a file, or a link to something that has timestamps of when the file was last edited)\n",
    "- a README file as a .txt or .md"
   ]
  }
 ],
 "metadata": {
  "kernelspec": {
   "display_name": "Python 3",
   "language": "python",
   "name": "python3"
  },
  "language_info": {
   "codemirror_mode": {
    "name": "ipython",
    "version": 3
   },
   "file_extension": ".py",
   "mimetype": "text/x-python",
   "name": "python",
   "nbconvert_exporter": "python",
   "pygments_lexer": "ipython3",
   "version": "3.8.1"
  },
  "orig_nbformat": 4,
  "vscode": {
   "interpreter": {
    "hash": "aee8b7b246df8f9039afb4144a1f6fd8d2ca17a180786b69acc140d282b71a49"
   }
  }
 },
 "nbformat": 4,
 "nbformat_minor": 2
}
