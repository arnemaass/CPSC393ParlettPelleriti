{
 "cells": [
  {
   "attachments": {},
   "cell_type": "markdown",
   "metadata": {},
   "source": [
    "# Homework 5 (Generative Models)\n",
    "\n",
    "In class we learned two main types of generative models: **GANs** and **VAEs**. We also learned about **Conditional GANs** which input the *class* of an image (like digit in the MNIST dataset) into both the Generator and Discriminator. \n",
    "\n",
    "Using these three examples (GAN, VAE, Conditional GAN), run the code, and modify it to generate at least 25 different images each. \n",
    "\n",
    "- [VAE Tensorflow Example](https://colab.research.google.com/drive/18EmzWN17Q732sMrUoznsx3VCfiptq5P5?usp=sharing)\n",
    "- [GAN Tensorflow Example](https://colab.research.google.com/drive/1DwWzJ428h4MRDOEB2B-aR_i4fb0J5oHQ?usp=sharing)\n",
    "- [Conditional GAN Tensorflow Example](https://colab.research.google.com/drive/12RQM9gOsooycBUlYsZQ4VRJ03IW08ZHA?usp=sharing)\n",
    "\n",
    "Explain the difference between how we generate samples in the 3 models (e.g. what are the differences in the inputs of each model, how they're trained, the types of layers, activations, sizes, the way they generate samples...etc,  as well as your subjective opinions on the differences in the generated images (e.g. quality, blurriness, realism, ability to interpolate, ease of selecting a particular digit...etc).\n",
    "\n",
    "Instead of having a typical technical report, you should have two sections:\n",
    "\n",
    "1. Differences Between Model Architechtures, Inputs/Outputs, and Training\n",
    "2. Comparison of Outputs\n",
    "\n",
    "\n",
    "Due to the more limited nature of this assignment, make sure your two discussions are detailed and thourough and show a deep understanding of the differences between VAEs, GANs, and Conditional GANs.\n",
    "\n",
    "\n",
    "## Checklist\n",
    "\n",
    "You should be turning in:\n",
    "\n",
    "- A PDF of your Report (please include images, tables...etc IN THE REPORT)\n",
    "- a txt/md README file\n"
   ]
  }
 ],
 "metadata": {
  "language_info": {
   "name": "python"
  },
  "orig_nbformat": 4
 },
 "nbformat": 4,
 "nbformat_minor": 2
}
