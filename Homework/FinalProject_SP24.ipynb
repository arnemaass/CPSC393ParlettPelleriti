{
 "cells": [
  {
   "attachments": {},
   "cell_type": "markdown",
   "metadata": {},
   "source": [
    "# Final Project\n",
    "\n",
    "For your Final Project you will turn in 3 things:\n",
    "\n",
    "1. Your code (in some timestamped way, either a ipynb/py, GitHub link...etc)\n",
    "2. A Technical Report with the following sections (Introduction, Analysis, Methods, Results, Reflection)\n",
    "    - MAKE SURE your discussions are thourough (more thourough than for the Homeworks, as you're all doing different things and more discussion and background is needed. While visualizations are not required, they are strongly recommended where applicable)\n",
    "3. (**For Groups**) A README file that also includes a description of how you diveded the labor between group members\n",
    "3. (**For Individuals**) a README file.\n",
    "\n",
    "Remember, your technical report should be a *standalone* document, so you should copy any tables, images, results into the report, not leave them in your notebook/code file.\n",
    "\n",
    "You will be judged on the following rubric criteria:\n",
    "\n",
    "- Quality of technical report \n",
    "    - Introduction provides reader with all the necessary background and information about the data, and importance of the problem being solved is apparent\n",
    "    - Analysis demonstrates a deep understanding of the data and provides the reader with the context necessary to understand both the problem and the modelling choices.\n",
    "    - Methods is complete, appropriate for the task, and would allow someone to roughly recreate the model(s) used. Reasoning behind choices made when building the model are provided. \n",
    "    - Results provides a nuanced and detailed discussion of the model performance (e.g. beyond simple overall metrics), and discusses the implication of these results (e.g. how they affect whether the model could be used, whether performance differs for different groups, etc. )\n",
    "    - Reflection demonstrates that student(s) understand the problem at hand, had an organized way of approaching the problem, recognize limitations of the curent analysis, and have thought about improvements taht can be made to the model(s) in the future.  \n",
    "- Code is Organized and appropriate for task (e.g. the architecture chosen is appropriate for the problem, the loss function matches the desired output, metrics are appropriate for the task, no data leakage, code runs as intended...etc.)\n",
    "- Quality of Problem (the problem being solved and the questions being answered are sufficiently complex)"
   ]
  },
  {
   "attachments": {},
   "cell_type": "markdown",
   "metadata": {},
   "source": [
    "# Technical Report Guidelines\n",
    "## Introduction\n",
    "An introduction should introduce the problem you're working on, give some background and relevant detail for the reader, and explain why it is important. \n",
    "\n",
    "## Analysis \n",
    "Any exploratory analysis of your data, and general summarization of the data (e.g. summary statistics, correlation heatmaps, graphs, information about the data...). This can also include any cleaning and joining you did. \n",
    "\n",
    "## Methods\n",
    "Explain the structure of your model and your approach to building it. This can also include changes you made to your model in the process of building it. Someone should be able to read your methods section and *generally* be able to tell exactly what architechture you used. \n",
    "\n",
    "## Results\n",
    "Detailed discussion of how your model performed, and your discussion of how your model performed.\n",
    "\n",
    "## Reflection\n",
    "Reflections on what you learned/discovered in the process of doing the assignment. Things you would do differently in the future, ways you'll approach similar problems in the future, etc.\n"
   ]
  }
 ],
 "metadata": {
  "language_info": {
   "name": "python"
  },
  "orig_nbformat": 4
 },
 "nbformat": 4,
 "nbformat_minor": 2
}
