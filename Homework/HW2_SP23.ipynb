{
 "cells": [
  {
   "attachments": {},
   "cell_type": "markdown",
   "metadata": {},
   "source": [
    "# Homework 2 (Feed Forward Neural Networks)\n",
    "\n",
    "Choose a dataset that you're interested in from among these options (or choose your own data set as long as it's large enough and **you check with me** in advance):\n",
    "\n",
    "- [Boston Housing Data](https://github.com/selva86/datasets/blob/master/BostonHousing.csv) (More info [here](https://www.cs.toronto.edu/~delve/data/boston/bostonDetail.html))\n",
    "- [Wine Quality Data](https://archive.ics.uci.edu/ml/datasets/wine+quality)\n",
    "- [Spam Emails](https://archive.ics.uci.edu/ml/datasets/Spambase)\n",
    "- [European Soccer Data](https://www.kaggle.com/datasets/hugomathien/soccer)(would only recommend if you want to spend some time joining and cleaning data)\n",
    "- \n",
    "\n",
    "Then Build a Deep FEED FORWARD Neural Network (No Convolutional or Recurrent Layers) using keras/tensorflow (at least 3 *hidden* layers) to predict either a category or a continuous value.\n",
    "\n",
    "Make sure that:\n",
    "\n",
    "- your NN has some sort of regularization (or multiple types if needed)\n",
    "- you've properly z-scored or otherwise scaled your data before training\n",
    "- your model architechture and loss function are appropriate for the problem\n",
    "- you print out at least 2 metrics for both train and test data to examine\n",
    "\n",
    "\n",
    "Then create a **technical report** discussing your model building process, the results, and your reflection on it. The report should follow the format in the example including an Introduction, Analysis, Methods, Results, and Reflection section."
   ]
  },
  {
   "attachments": {},
   "cell_type": "markdown",
   "metadata": {},
   "source": [
    "# Introduction\n",
    "An introduction should introduce the problem you're working on, give some background and relevant detail for the reader, and explain why it is important. \n",
    "\n",
    "# Analysis \n",
    "Any exploratory analysis of your data, and general summarization of the data (e.g. summary statistics, correlation heatmaps, graphs, information about the data...). This can also include any cleaning and joining you did. \n",
    "\n",
    "# Methods\n",
    "Explain the structure of your model and your approach to building it. This can also include changes you made to your model in the process of building it. Someone should be able to read your methods section and *generally* be able to tell exactly what architechture you used. \n",
    "\n",
    "# Results\n",
    "Detailed discussion of how your model performed, and your discussion of how your model performed.\n",
    "\n",
    "# Reflection\n",
    "Reflections on what you learned/discovered in the process of doing the assignment. Things you would do differently in the future, ways you'll approach similar problems in the future, etc.\n"
   ]
  },
  {
   "attachments": {},
   "cell_type": "markdown",
   "metadata": {},
   "source": [
    "# What to Turn In\n",
    "\n",
    "- PDF of your technical report\n",
    "- your code as a .py, .ipynb, or link to github (you must turn it in either as a file, or a link to something that has timestamps of when the file was last edited)\n",
    "- a README file as a .txt or .md"
   ]
  }
 ],
 "metadata": {
  "kernelspec": {
   "display_name": "Python 3",
   "language": "python",
   "name": "python3"
  },
  "language_info": {
   "name": "python",
   "version": "3.8.1"
  },
  "orig_nbformat": 4
 },
 "nbformat": 4,
 "nbformat_minor": 2
}
